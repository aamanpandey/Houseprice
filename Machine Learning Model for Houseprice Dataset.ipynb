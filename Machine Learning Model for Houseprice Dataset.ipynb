{
 "cells": [
  {
   "cell_type": "markdown",
   "metadata": {},
   "source": [
    "# Results\n",
    "\n",
    "- Best Model parameters : StackingRegressor {'final_estimator__alpha': 0.001}\n",
    "- Mean Cross validation score of Best model: 0.9031\n",
    "- Test score of best model :0.8870\n",
    "- Train score of best model :0.9676"
   ]
  },
  {
   "cell_type": "markdown",
   "metadata": {},
   "source": [
    "## Data PreProcessing"
   ]
  },
  {
   "cell_type": "code",
   "execution_count": 1,
   "metadata": {
    "ExecuteTime": {
     "end_time": "2020-03-09T07:32:49.555666Z",
     "start_time": "2020-03-09T07:32:49.545638Z"
    }
   },
   "outputs": [],
   "source": [
    "from math import sqrt\n",
    "import pandas as pd\n",
    "import numpy as np\n",
    "import matplotlib.pyplot as plt\n",
    "import seaborn as sns\n",
    "import scipy.stats as stats\n",
    "from sklearn.metrics import mean_squared_error, r2_score\n",
    "pd.pandas.set_option('display.max_columns', None)\n",
    "%matplotlib inline\n",
    "import warnings\n",
    "warnings.filterwarnings(\"ignore\")"
   ]
  },
  {
   "cell_type": "markdown",
   "metadata": {},
   "source": [
    "### Load Datasets"
   ]
  },
  {
   "cell_type": "code",
   "execution_count": 2,
   "metadata": {
    "ExecuteTime": {
     "end_time": "2020-03-09T07:32:50.854852Z",
     "start_time": "2020-03-09T07:32:50.812739Z"
    }
   },
   "outputs": [],
   "source": [
    "# load dataset\n",
    "# your code here\n",
    "data = pd.read_csv(\"houseprice.csv\")\n"
   ]
  },
  {
   "cell_type": "markdown",
   "metadata": {},
   "source": [
    "### Types of variables\n",
    "\n"
   ]
  },
  {
   "cell_type": "code",
   "execution_count": 3,
   "metadata": {
    "ExecuteTime": {
     "end_time": "2020-03-09T07:32:51.725905Z",
     "start_time": "2020-03-09T07:32:51.719889Z"
    }
   },
   "outputs": [
    {
     "name": "stdout",
     "output_type": "stream",
     "text": [
      "Number of House Id labels:  1460\n",
      "Number of Houses in the Dataset:  1460\n"
     ]
    }
   ],
   "source": [
    "# we have an Id variable, that we should not use for predictions:\n",
    "\n",
    "print('Number of House Id labels: ', len(data.Id.unique()))\n",
    "print('Number of Houses in the Dataset: ', len(data))"
   ]
  },
  {
   "cell_type": "markdown",
   "metadata": {},
   "source": [
    "#### Find categorical variables"
   ]
  },
  {
   "cell_type": "code",
   "execution_count": 4,
   "metadata": {
    "ExecuteTime": {
     "end_time": "2020-03-09T07:32:53.140553Z",
     "start_time": "2020-03-09T07:32:53.135036Z"
    }
   },
   "outputs": [
    {
     "name": "stdout",
     "output_type": "stream",
     "text": [
      "There are 43 categorical variables\n"
     ]
    }
   ],
   "source": [
    "# find categorical variables- hint data type = 'O'\n",
    "\n",
    "categorical = [var for var in data.columns if data[var].dtype=='O']\n",
    "\n",
    "print(f'There are {len(categorical)} categorical variables')"
   ]
  },
  {
   "cell_type": "markdown",
   "metadata": {},
   "source": [
    "#### Find temporal variables"
   ]
  },
  {
   "cell_type": "code",
   "execution_count": 5,
   "metadata": {
    "ExecuteTime": {
     "end_time": "2020-03-09T07:32:54.328164Z",
     "start_time": "2020-03-09T07:32:54.321146Z"
    }
   },
   "outputs": [
    {
     "data": {
      "text/plain": [
       "['YearBuilt', 'YearRemodAdd', 'GarageYrBlt', 'YrSold']"
      ]
     },
     "execution_count": 5,
     "metadata": {},
     "output_type": "execute_result"
    }
   ],
   "source": [
    "# make a list of the numerical variables first= Hint data type != O\n",
    "numerical = [var for var in data.columns if data[var].dtype!='O']\n",
    "\n",
    "# list of variables that contain year information= Hint variable namme has Yr or \n",
    "year_vars = [var for var in numerical if 'Yr' in var or 'Year' in var]\n",
    "\n",
    "year_vars"
   ]
  },
  {
   "cell_type": "markdown",
   "metadata": {},
   "source": [
    "#### Find discrete variables\n",
    "\n",
    "To identify discrete variables- numerical variables with less than 20 unique values "
   ]
  },
  {
   "cell_type": "code",
   "execution_count": 6,
   "metadata": {
    "ExecuteTime": {
     "end_time": "2020-03-09T07:32:55.849304Z",
     "start_time": "2020-03-09T07:32:55.835765Z"
    }
   },
   "outputs": [
    {
     "name": "stdout",
     "output_type": "stream",
     "text": [
      "There are 14 discrete variables\n"
     ]
    }
   ],
   "source": [
    "# let's visualise the values of the discrete variables\n",
    "discrete = [var for var in numerical if len(data[var].unique()) < 20 and var not in year_vars]\n",
    "\n",
    "print(f'There are {len(discrete)} discrete variables')"
   ]
  },
  {
   "cell_type": "markdown",
   "metadata": {},
   "source": [
    "#### Continuous variables"
   ]
  },
  {
   "cell_type": "code",
   "execution_count": 7,
   "metadata": {
    "ExecuteTime": {
     "end_time": "2020-03-09T07:32:57.274949Z",
     "start_time": "2020-03-09T07:32:57.268932Z"
    }
   },
   "outputs": [
    {
     "name": "stdout",
     "output_type": "stream",
     "text": [
      "There are 38 numerical and continuous variables\n"
     ]
    }
   ],
   "source": [
    "# find continuous variables- hint numerical variables not in discrete and  year_years \n",
    "# Also remove the Id variable and the target variable SalePrice\n",
    "# which are both also numerical\n",
    "\n",
    "continuous = [var for var in numerical if var not in discrete and var not in [\n",
    "    'Id', 'SalePrice'] and var not in year_vars]\n",
    "\n",
    "print('There are {} numerical and continuous variables'.format(len(numerical)))"
   ]
  },
  {
   "cell_type": "markdown",
   "metadata": {},
   "source": [
    "### Separate train and test set"
   ]
  },
  {
   "cell_type": "code",
   "execution_count": 8,
   "metadata": {
    "ExecuteTime": {
     "end_time": "2020-03-09T07:32:58.666697Z",
     "start_time": "2020-03-09T07:32:58.651653Z"
    }
   },
   "outputs": [
    {
     "data": {
      "text/plain": [
       "((1314, 79), (146, 79))"
      ]
     },
     "execution_count": 8,
     "metadata": {},
     "output_type": "execute_result"
    }
   ],
   "source": [
    "# Let's separate into train and test set\n",
    "from sklearn.model_selection import train_test_split\n",
    "X_train, X_test, y_train, y_test = train_test_split(data.drop(['Id', 'SalePrice'], axis=1),\n",
    "                                                    data['SalePrice'],\n",
    "                                                    test_size=0.1,\n",
    "                                                    random_state=0)\n",
    "\n",
    "X_train.shape, X_test.shape"
   ]
  },
  {
   "cell_type": "markdown",
   "metadata": {},
   "source": [
    "**Now we will move on and engineer the features of this dataset. The most important part for this course.**"
   ]
  },
  {
   "cell_type": "markdown",
   "metadata": {},
   "source": [
    "### Craete New Variables\n",
    "\n",
    "Replace 'YearBuilt', 'YearRemodAdd', 'GarageYrBlt  with time elapsed since YrSold\n",
    "So YearBuilt = YrSold-YearBuilt. \n",
    "\n",
    "Similarly transform 'YearRemodAdd', 'GarageYrBlt.\n",
    "After making transformation drop YrSold"
   ]
  },
  {
   "cell_type": "code",
   "execution_count": 9,
   "metadata": {
    "ExecuteTime": {
     "end_time": "2020-03-09T07:33:00.776674Z",
     "start_time": "2020-03-09T07:33:00.771663Z"
    }
   },
   "outputs": [],
   "source": [
    "# function to calculate elapsed time\n",
    "\n",
    "def elapsed_years(df, var):\n",
    "    # capture difference between year variable and\n",
    "    # year the house was sold\n",
    "    \n",
    "    df[var] = df['YrSold'] - df[var]\n",
    "    return df"
   ]
  },
  {
   "cell_type": "code",
   "execution_count": 10,
   "metadata": {
    "ExecuteTime": {
     "end_time": "2020-03-09T07:33:02.547542Z",
     "start_time": "2020-03-09T07:33:02.540522Z"
    }
   },
   "outputs": [],
   "source": [
    "for var in ['YearBuilt', 'YearRemodAdd', 'GarageYrBlt']:\n",
    "    X_train = elapsed_years(X_train, var)\n",
    "    X_test = elapsed_years(X_test, var)"
   ]
  },
  {
   "cell_type": "code",
   "execution_count": 11,
   "metadata": {
    "ExecuteTime": {
     "end_time": "2020-03-09T07:33:03.567722Z",
     "start_time": "2020-03-09T07:33:03.559698Z"
    }
   },
   "outputs": [],
   "source": [
    "# drop YrSold\n",
    "X_train.drop('YrSold', axis=1, inplace=True)\n",
    "X_test.drop('YrSold', axis=1, inplace=True)"
   ]
  },
  {
   "cell_type": "code",
   "execution_count": 12,
   "metadata": {
    "ExecuteTime": {
     "end_time": "2020-03-09T07:33:04.982369Z",
     "start_time": "2020-03-09T07:33:04.978849Z"
    }
   },
   "outputs": [],
   "source": [
    "year_vars.remove('YrSold')"
   ]
  },
  {
   "cell_type": "code",
   "execution_count": 13,
   "metadata": {
    "ExecuteTime": {
     "end_time": "2020-03-09T07:33:05.869066Z",
     "start_time": "2020-03-09T07:33:05.863050Z"
    }
   },
   "outputs": [
    {
     "data": {
      "text/plain": [
       "Index(['MSSubClass', 'MSZoning', 'LotFrontage', 'LotArea', 'Street', 'Alley',\n",
       "       'LotShape', 'LandContour', 'Utilities', 'LotConfig', 'LandSlope',\n",
       "       'Neighborhood', 'Condition1', 'Condition2', 'BldgType', 'HouseStyle',\n",
       "       'OverallQual', 'OverallCond', 'YearBuilt', 'YearRemodAdd', 'RoofStyle',\n",
       "       'RoofMatl', 'Exterior1st', 'Exterior2nd', 'MasVnrType', 'MasVnrArea',\n",
       "       'ExterQual', 'ExterCond', 'Foundation', 'BsmtQual', 'BsmtCond',\n",
       "       'BsmtExposure', 'BsmtFinType1', 'BsmtFinSF1', 'BsmtFinType2',\n",
       "       'BsmtFinSF2', 'BsmtUnfSF', 'TotalBsmtSF', 'Heating', 'HeatingQC',\n",
       "       'CentralAir', 'Electrical', '1stFlrSF', '2ndFlrSF', 'LowQualFinSF',\n",
       "       'GrLivArea', 'BsmtFullBath', 'BsmtHalfBath', 'FullBath', 'HalfBath',\n",
       "       'BedroomAbvGr', 'KitchenAbvGr', 'KitchenQual', 'TotRmsAbvGrd',\n",
       "       'Functional', 'Fireplaces', 'FireplaceQu', 'GarageType', 'GarageYrBlt',\n",
       "       'GarageFinish', 'GarageCars', 'GarageArea', 'GarageQual', 'GarageCond',\n",
       "       'PavedDrive', 'WoodDeckSF', 'OpenPorchSF', 'EnclosedPorch', '3SsnPorch',\n",
       "       'ScreenPorch', 'PoolArea', 'PoolQC', 'Fence', 'MiscFeature', 'MiscVal',\n",
       "       'MoSold', 'SaleType', 'SaleCondition'],\n",
       "      dtype='object')"
      ]
     },
     "execution_count": 13,
     "metadata": {},
     "output_type": "execute_result"
    }
   ],
   "source": [
    "# capture the column names for use later in the notebook\n",
    "final_columns = X_train.columns\n",
    "final_columns"
   ]
  },
  {
   "cell_type": "markdown",
   "metadata": {},
   "source": [
    "### Feature Engineering Pipeline"
   ]
  },
  {
   "cell_type": "code",
   "execution_count": 14,
   "metadata": {
    "ExecuteTime": {
     "end_time": "2020-03-09T07:33:07.930697Z",
     "start_time": "2020-03-09T07:33:07.909638Z"
    }
   },
   "outputs": [],
   "source": [
    "# I will treat discrete variables as if they were categorical\n",
    "# to treat discrete as categorical using Feature-engine\n",
    "# we need to re-cast them as object\n",
    "\n",
    "X_train[discrete] = X_train[discrete].astype('O')\n",
    "X_test[discrete] = X_test[discrete].astype('O')"
   ]
  },
  {
   "cell_type": "code",
   "execution_count": 15,
   "metadata": {
    "ExecuteTime": {
     "end_time": "2020-03-09T07:33:10.023580Z",
     "start_time": "2020-03-09T07:33:10.018569Z"
    }
   },
   "outputs": [],
   "source": [
    "# import relevant modules for feature engineering\n",
    "from sklearn.pipeline import Pipeline\n",
    "from sklearn.preprocessing import StandardScaler\n",
    "from feature_engine import missing_data_imputers as mdi\n",
    "from feature_engine import categorical_encoders as ce\n",
    "from feature_engine.variable_transformers import YeoJohnsonTransformer\n",
    "from sklearn.preprocessing import StandardScaler\n",
    "from feature_engine.discretisers import DecisionTreeDiscretiser"
   ]
  },
  {
   "cell_type": "code",
   "execution_count": 16,
   "metadata": {
    "ExecuteTime": {
     "end_time": "2020-03-09T07:33:11.578215Z",
     "start_time": "2020-03-09T07:33:11.570194Z"
    }
   },
   "outputs": [],
   "source": [
    "house_preprocess = Pipeline([\n",
    "    \n",
    "    # missing data imputation \n",
    "    ('missing_ind', mdi.AddNaNBinaryImputer(\n",
    "        variables=['LotFrontage', 'MasVnrArea',  'GarageYrBlt'])),\n",
    "    ('imputer_num', mdi.MeanMedianImputer(imputation_method='mean',\n",
    "                                          variables=['LotFrontage', 'MasVnrArea',  'GarageYrBlt'])),\n",
    "    ('imputer_cat', mdi.CategoricalVariableImputer(variables=categorical)),\n",
    "\n",
    "    # categorical encoding \n",
    "     ('rare_label_enc', ce.RareLabelCategoricalEncoder(\n",
    "         tol=0.01,n_categories=6, variables=categorical+discrete)),\n",
    "    ('categorical_enc', ce.MeanCategoricalEncoder(variables = categorical + discrete)),\n",
    "     \n",
    "    # Transforming Numerical Variables\n",
    "    ('yjt', YeoJohnsonTransformer(variables = ['LotFrontage','MasVnrArea', 'GarageYrBlt'])),\n",
    "\n",
    "    \n",
    "    # discretisation and encoding\n",
    "    ('treeDisc',  DecisionTreeDiscretiser(cv=2, scoring='neg_mean_squared_error',\n",
    "                                   regression=True,\n",
    "                                   param_grid={'max_depth': [1,2,3,4,5,6]})),\n",
    "\n",
    "    # feature Scaling\n",
    "    ('scaler', StandardScaler()),\n",
    "    \n",
    "    \n",
    "\n",
    "])"
   ]
  },
  {
   "cell_type": "code",
   "execution_count": 17,
   "metadata": {
    "ExecuteTime": {
     "end_time": "2020-03-09T07:33:18.934597Z",
     "start_time": "2020-03-09T07:33:15.096006Z"
    }
   },
   "outputs": [
    {
     "data": {
      "text/plain": [
       "Pipeline(memory=None,\n",
       "         steps=[('missing_ind',\n",
       "                 AddNaNBinaryImputer(variables=['LotFrontage', 'MasVnrArea',\n",
       "                                                'GarageYrBlt'])),\n",
       "                ('imputer_num',\n",
       "                 MeanMedianImputer(imputation_method='mean',\n",
       "                                   variables=['LotFrontage', 'MasVnrArea',\n",
       "                                              'GarageYrBlt'])),\n",
       "                ('imputer_cat',\n",
       "                 CategoricalVariableImputer(variables=['MSZoning', 'Street',\n",
       "                                                       'Alley', 'LotShape',\n",
       "                                                       'LandContour',\n",
       "                                                       'Utilities', '...\n",
       "                                                    'Utilities', 'LotConfig',\n",
       "                                                    'LandSlope', 'Neighborhood',\n",
       "                                                    'Condition1', 'Condition2',\n",
       "                                                    'BldgType', 'HouseStyle',\n",
       "                                                    'OverallQual',\n",
       "                                                    'OverallCond', 'YearBuilt',\n",
       "                                                    'YearRemodAdd', 'RoofStyle',\n",
       "                                                    'RoofMatl', 'Exterior1st',\n",
       "                                                    'Exterior2nd', 'MasVnrType',\n",
       "                                                    'MasVnrArea', 'ExterQual',\n",
       "                                                    'ExterCond', 'Foundation',\n",
       "                                                    'BsmtQual', ...])),\n",
       "                ('scaler',\n",
       "                 StandardScaler(copy=True, with_mean=True, with_std=True))],\n",
       "         verbose=False)"
      ]
     },
     "execution_count": 17,
     "metadata": {},
     "output_type": "execute_result"
    }
   ],
   "source": [
    "house_preprocess.fit(X_train,y_train)"
   ]
  },
  {
   "cell_type": "code",
   "execution_count": 18,
   "metadata": {
    "ExecuteTime": {
     "end_time": "2020-03-09T07:33:21.351997Z",
     "start_time": "2020-03-09T07:33:20.885744Z"
    }
   },
   "outputs": [],
   "source": [
    "# Apply Transformations\n",
    "X_train=house_preprocess.transform(X_train)\n",
    "X_test=house_preprocess.transform(X_test)"
   ]
  },
  {
   "cell_type": "markdown",
   "metadata": {},
   "source": [
    "## <span class=\"mark\">DO NOT CHANGE STEPS BEFORE THIS POINT</span>"
   ]
  },
  {
   "cell_type": "markdown",
   "metadata": {
    "ExecuteTime": {
     "end_time": "2020-03-09T04:00:12.095764Z",
     "start_time": "2020-03-09T04:00:12.093253Z"
    }
   },
   "source": [
    "## Regression Models- Tune different models one by one"
   ]
  },
  {
   "cell_type": "markdown",
   "metadata": {},
   "source": [
    "### linear Regression Model"
   ]
  },
  {
   "cell_type": "code",
   "execution_count": 19,
   "metadata": {
    "ExecuteTime": {
     "end_time": "2020-03-09T07:33:23.368390Z",
     "start_time": "2020-03-09T07:33:23.292686Z"
    }
   },
   "outputs": [
    {
     "name": "stdout",
     "output_type": "stream",
     "text": [
      "Mean Cross-validation scores: [ 8.68250071e-01 -1.82946152e+21  8.77161153e-01  8.98296189e-01\n",
      "  8.92093773e-01]\n",
      "\n",
      "LR Performance Train:  0.9115050551047296\n",
      "\n",
      "LR Performance Test:  0.8750157906112974\n",
      "\n",
      "lr.coef_: [ 8.74692295e+02  9.72879918e+02  1.43598424e+03  2.41530789e+03\n",
      "  1.55922446e+03  3.31539942e+02  5.84804509e+02  1.20332634e+03\n",
      "  1.48520143e+03  2.33009441e+03  1.17630965e+03  1.13744157e+04\n",
      "  1.26748073e+03  2.03977054e+03  1.11272495e+03 -1.03635447e+03\n",
      "  1.58434519e+04 -2.93676378e+02 -5.41610661e+03  3.98221701e+03\n",
      "  3.68590080e+02 -1.04048824e+03  3.19187631e+03 -2.39551624e+03\n",
      " -8.64923875e+02  2.87894951e+02  2.67846806e+03  7.08957253e+02\n",
      "  1.02948711e+02  2.34865476e+03  5.71438886e+02  3.60875596e+03\n",
      "  1.23986809e+03  5.64889112e+03 -1.47594682e+03  1.93575359e+03\n",
      " -2.70259491e+02  7.61385836e+03  2.15847425e+02  1.45627677e+03\n",
      "  1.18463265e+03 -7.40189368e+02  1.22327269e+04  1.12776771e+04\n",
      "  4.16965516e+03  5.78069444e+03  2.85514634e+03 -1.32019971e+03\n",
      "  4.18391534e+03  5.24407111e+03  6.05123160e+02  3.06070473e+03\n",
      "  3.74704855e+03  3.12566418e+03  3.00668621e+03  7.39921004e+02\n",
      "  1.47372348e+03 -2.02172925e+03 -2.06185250e+03 -9.59751477e+02\n",
      "  3.96677470e+03  5.95143306e+02  2.35990761e+03  8.70466742e+01\n",
      " -2.74000854e+00  1.36487372e+03  1.54321076e+03  8.69710870e+01\n",
      "  2.25820825e+03  2.63005237e+03 -6.53223334e+16  6.53223334e+16\n",
      " -3.37438686e+02 -2.02954558e+03  7.48388039e+02 -1.84439200e+02\n",
      " -1.32180507e+03  5.48778019e+03 -2.13173046e+02  2.78063957e+02\n",
      " -1.29361336e+02]\n",
      "lr.intercept_: 181040.6240487064\n"
     ]
    }
   ],
   "source": [
    "# Train a linear regression model, report the coefficients and model performance \n",
    "\n",
    "from sklearn.linear_model import LinearRegression\n",
    "from sklearn.model_selection import cross_val_score\n",
    "\n",
    "lr = LinearRegression().fit(X_train, y_train)\n",
    "c_range = [0.001, 0.01, 0.1, 1, 10, 100, 1000]\n",
    "\n",
    "cv_scores = cross_val_score(lr, X_train, y_train, cv=5)\n",
    "\n",
    "# Mean Cross validation Score\n",
    "print(\"Mean Cross-validation scores: {}\".format(cv_scores))\n",
    "print()\n",
    "\n",
    "\n",
    "# Check train data set performance\n",
    "print(\"LR Performance Train: \", lr.score(X_train,y_train))\n",
    "print()\n",
    "# Check test data set performance\n",
    "print(\"LR Performance Test: \", lr.score(X_test,y_test))\n",
    "print()\n",
    "# Print Co-efficients\n",
    "print(\"lr.coef_:\", lr.coef_)\n",
    "print(\"lr.intercept_:\", lr.intercept_)\n"
   ]
  },
  {
   "cell_type": "markdown",
   "metadata": {},
   "source": [
    "### SGDRegressor Model"
   ]
  },
  {
   "cell_type": "code",
   "execution_count": 20,
   "metadata": {},
   "outputs": [
    {
     "name": "stdout",
     "output_type": "stream",
     "text": [
      "train mse: 626246484.7991427\n",
      "train rmse: 25024.91727856743\n",
      "train r2: 0.8997015779447194\n",
      "\n",
      "test mse: 972125528.3528875\n",
      "test rmse: 31178.927633144915\n",
      "test r2: 0.8585405675249085\n",
      "\n",
      "Best parameters: {'sgd_reg__eta0': 0.05}\n",
      "Best cross-validation score: 0.8767\n"
     ]
    }
   ],
   "source": [
    "from sklearn.linear_model import SGDRegressor\n",
    "from sklearn.metrics import mean_squared_error\n",
    "from sklearn.preprocessing import MinMaxScaler\n",
    "from sklearn.model_selection import GridSearchCV\n",
    "# create pipeline\n",
    "reg_sgd_pipe = Pipeline([\n",
    "\n",
    "    # feature Scaling\n",
    "    ('scaler', MinMaxScaler()),\n",
    "    # regression\n",
    "    ('sgd_reg', SGDRegressor(max_iter=1000, tol = 1e-5, eta0=0.01))\n",
    "])\n",
    "\n",
    "param_sgd = {'sgd_reg__eta0':[0.01, 0.05, 0.1 ,0.5]}\n",
    "grid_sgd = GridSearchCV(reg_sgd_pipe, param_sgd,cv=5, n_jobs=-1, return_train_score = True)\n",
    "\n",
    "# let's fit the pipeline\n",
    "grid_sgd.fit(X_train, y_train)\n",
    "\n",
    "# let's get the predictions\n",
    "X_train_preds = grid_sgd.predict(X_train)\n",
    "X_test_preds = grid_sgd.predict(X_test)\n",
    "\n",
    "\n",
    "# check model performance:\n",
    "\n",
    "print('train mse: {}'.format(mean_squared_error(y_train, X_train_preds)))\n",
    "print('train rmse: {}'.format(sqrt(mean_squared_error(y_train, X_train_preds))))\n",
    "print('train r2: {}'.format(r2_score(y_train, X_train_preds)))\n",
    "print()\n",
    "print('test mse: {}'.format(mean_squared_error(y_test, X_test_preds)))\n",
    "print('test rmse: {}'.format(sqrt(mean_squared_error(y_test, X_test_preds))))\n",
    "print('test r2: {}'.format(r2_score(y_test, X_test_preds)))\n",
    "print()\n",
    "print(\"Best parameters: {}\".format(grid_sgd.best_params_))\n",
    "print(\"Best cross-validation score: {:.4f}\".format(grid_sgd.best_score_))"
   ]
  },
  {
   "cell_type": "markdown",
   "metadata": {},
   "source": [
    "### Polynomial Model"
   ]
  },
  {
   "cell_type": "code",
   "execution_count": 21,
   "metadata": {},
   "outputs": [
    {
     "name": "stdout",
     "output_type": "stream",
     "text": [
      "\n",
      "train mse: 27493.178878248375\n",
      "train rmse: 165.81067178637318\n",
      "train r2: 0.9999955967458091\n",
      "\n",
      "test mse: 6.112494792154257e+25\n",
      "test rmse: 7818244554984.358\n",
      "test r2: -8894633656726822.0\n",
      "\n",
      "Cross Validation training results [0.91412022 0.9999965 ]\n",
      "Cross Validation testing results [-7.06135054e+19 -1.11136457e+16]\n",
      "Average cross-validation score: -365892304418220736512.0000\n"
     ]
    }
   ],
   "source": [
    "\n",
    "from sklearn.preprocessing  import PolynomialFeatures\n",
    "from sklearn.pipeline import make_pipeline\n",
    "from sklearn.linear_model import LinearRegression\n",
    "\n",
    "poly = PolynomialFeatures()\n",
    "lreg = LinearRegression()\n",
    "#define a list of parameters\n",
    "param_poly = {'polynomialfeatures__degree':range(1,3)}\n",
    "\n",
    "#apply polynomial regression in pipeline\n",
    "pipe_poly = make_pipeline(PolynomialFeatures(), LinearRegression())\n",
    "grid_poly = GridSearchCV(pipe_poly, param_poly,cv=5, n_jobs=-1, return_train_score = True)\n",
    "\n",
    "grid_poly.fit(X_train, y_train)\n",
    "\n",
    "\n",
    "# let's get the predictions\n",
    "X_train_preds = grid_poly.predict(X_train)\n",
    "X_test_preds = grid_poly.predict(X_test)\n",
    "\n",
    "print()\n",
    "\n",
    "# check model performance:\n",
    "# Check train data set performance\n",
    "print('train mse: {}'.format(mean_squared_error(y_train, X_train_preds)))\n",
    "print('train rmse: {}'.format(sqrt(mean_squared_error(y_train, X_train_preds))))\n",
    "print('train r2: {}'.format(r2_score(y_train, X_train_preds)))\n",
    "print()\n",
    "\n",
    "# Check test data set performance\n",
    "print('test mse: {}'.format(mean_squared_error(y_test, X_test_preds)))\n",
    "print('test rmse: {}'.format(sqrt(mean_squared_error(y_test, X_test_preds))))\n",
    "print('test r2: {}'.format(r2_score(y_test, X_test_preds)))\n",
    "\n",
    "print()\n",
    "\n",
    "\n",
    "print(\"Cross Validation training results\", grid_poly.cv_results_['mean_train_score'])\n",
    "print(\"Cross Validation testing results\", grid_poly.cv_results_['mean_test_score'])\n",
    "\n",
    "print(\"Average cross-validation score: {:.4f}\".format(cv_scores.mean()))"
   ]
  },
  {
   "cell_type": "markdown",
   "metadata": {},
   "source": [
    "### Ridge Regression Model"
   ]
  },
  {
   "cell_type": "code",
   "execution_count": 22,
   "metadata": {
    "ExecuteTime": {
     "end_time": "2020-03-09T07:33:32.923175Z",
     "start_time": "2020-03-09T07:33:32.720114Z"
    }
   },
   "outputs": [
    {
     "name": "stdout",
     "output_type": "stream",
     "text": [
      "train mse: 559886970.9352162\n",
      "train rmse: 23661.93083700517\n",
      "train r2: 0.9103295889443213\n",
      "\n",
      "test mse: 871707753.5558217\n",
      "test rmse: 29524.697349097783\n",
      "test r2: 0.8731529205790173\n",
      "Best parameters: {'alpha': 100}\n",
      "Best cross-validation score: 0.8862\n",
      "\n",
      "Ridge.coef_: [ 6.21659729e+02  1.17460178e+03  1.42941553e+03  2.64606835e+03\n",
      "  1.51146267e+03  2.62791603e+02  6.67979067e+02  1.18774714e+03\n",
      "  1.42260925e+03  2.24214684e+03  1.25368077e+03  9.92739531e+03\n",
      "  1.23361742e+03  1.99010230e+03  1.20327177e+03 -6.63081364e+02\n",
      "  1.30900812e+04 -4.66276510e+02 -2.83583594e+03  3.23156417e+03\n",
      "  6.84148916e+02 -6.10003713e+02  1.78250368e+03 -1.24106895e+03\n",
      " -8.16647095e+02  8.17430994e+02  3.38262729e+03  6.89414122e+02\n",
      " -2.93079656e+02  2.71590898e+03  4.54540556e+02  3.45654634e+03\n",
      "  1.37124639e+03  5.85727188e+03 -1.21460614e+03  1.83762570e+03\n",
      " -2.50335442e+02  7.78490680e+03  1.59374113e+02  1.42274787e+03\n",
      "  1.23479897e+03 -5.43667577e+02  1.07696364e+04  1.01767254e+04\n",
      "  3.73457884e+03  6.25609926e+03  2.54341163e+03 -1.10107201e+03\n",
      "  3.81888633e+03  4.50746959e+03  8.23531957e+02  2.86618489e+03\n",
      "  4.19642055e+03  3.72923474e+03  2.86150257e+03  1.16162981e+03\n",
      "  1.86272306e+03 -1.46071138e+03 -1.49365951e+03 -7.89046316e+02\n",
      "  3.51419158e+03  1.50381127e+03  1.65614085e+03  5.11566556e+02\n",
      "  3.73952853e+01  1.30344611e+03  1.57916552e+03 -7.37193962e+01\n",
      "  2.06813040e+03  2.51850021e+03 -6.51713348e+02 -6.51713348e+02\n",
      " -3.70908918e+02 -1.54128339e+03  5.01320874e+02 -1.07090034e+02\n",
      "  2.35733301e+02  3.40278384e+03 -2.52546414e+02  3.26175004e+02\n",
      "  4.31488588e+00]\n",
      "Ridge.intercept_: 181040.6240487064\n",
      "\n",
      "Number of features used: 81\n"
     ]
    }
   ],
   "source": [
    "# Train a Ridge regression model, report the coefficients, the best parameters, and model performance \n",
    "from sklearn.model_selection import GridSearchCV\n",
    "from sklearn.linear_model import Ridge\n",
    "ridge = Ridge()\n",
    "\n",
    "#define a list of parameters\n",
    "param_ridge = {'alpha':[0.001, 0.01, 0.1, 1, 10, 99, 100, 150, 200] }\n",
    "\n",
    "grid_ridge = GridSearchCV(ridge, param_ridge, cv=10, return_train_score = True)\n",
    "grid_ridge.fit(X_train, y_train)\n",
    "\n",
    "\n",
    "\n",
    "# let's get the predictions\n",
    "X_train_preds = grid_ridge.predict(X_train)\n",
    "X_test_preds = grid_ridge.predict(X_test)\n",
    "\n",
    "\n",
    "# check model performance:\n",
    "\n",
    "print('train mse: {}'.format(mean_squared_error(y_train, X_train_preds)))\n",
    "print('train rmse: {}'.format(sqrt(mean_squared_error(y_train, X_train_preds))))\n",
    "print('train r2: {}'.format(r2_score(y_train, X_train_preds)))\n",
    "print()\n",
    "print('test mse: {}'.format(mean_squared_error(y_test, X_test_preds)))\n",
    "print('test rmse: {}'.format(sqrt(mean_squared_error(y_test, X_test_preds))))\n",
    "print('test r2: {}'.format(r2_score(y_test, X_test_preds)))\n",
    "\n",
    "print(\"Best parameters: {}\".format(grid_ridge.best_params_))\n",
    "print(\"Best cross-validation score: {:.4f}\".format(grid_ridge.best_score_))\n",
    "\n",
    "print()\n",
    "\n",
    "\n",
    "# print co-eff\n",
    "\n",
    "print(\"Ridge.coef_:\", grid_ridge.best_estimator_.coef_)\n",
    "print(\"Ridge.intercept_:\", grid_ridge.best_estimator_.intercept_)\n",
    "\n",
    "print()\n",
    "print(\"Number of features used:\", np.sum(grid_ridge.best_estimator_.coef_ != 0))"
   ]
  },
  {
   "cell_type": "markdown",
   "metadata": {},
   "source": [
    "### Lasso Regression Model"
   ]
  },
  {
   "cell_type": "code",
   "execution_count": 23,
   "metadata": {
    "ExecuteTime": {
     "end_time": "2020-03-09T07:33:38.130469Z",
     "start_time": "2020-03-09T07:33:37.468173Z"
    }
   },
   "outputs": [
    {
     "name": "stdout",
     "output_type": "stream",
     "text": [
      "train mse: 584610472.9547795\n",
      "train rmse: 24178.719423385093\n",
      "train r2: 0.9063699208257241\n",
      "\n",
      "test mse: 785416114.4697853\n",
      "test rmse: 28025.27634957032\n",
      "test r2: 0.8857097004767107\n",
      "Best parameters: {'alpha': 830}\n",
      "Best cross-validation score: 0.8868\n",
      "\n",
      "Lasso.coef_: [  151.19657313   793.38659845   760.98122609  2871.16489384\n",
      "   634.51226322     0.           236.24175376   657.48995277\n",
      "   445.52327894  1621.04096355   869.8163768  10637.73830821\n",
      "   565.14019528  1468.39845504  1145.74759992    -0.\n",
      " 15975.16095442    -0.            -0.          2424.68838815\n",
      "     0.            -0.             0.             0.\n",
      "    -0.             0.          1721.43586559   120.85455684\n",
      "    -0.          1152.95827237     0.          2981.03993368\n",
      "     0.          6290.50381801    -0.          1055.44006461\n",
      "    -0.          7971.97606261     0.           509.12622958\n",
      "  1005.68360625     0.         12152.41359806 11410.23330003\n",
      "  2802.20809024  6086.12057944  2484.11202103  -517.56445585\n",
      "  2246.89023433  3958.74497722   384.8355709   1983.57232663\n",
      "  4071.27586996  2792.83329893  1884.938455    1246.85840751\n",
      "  1161.30208679    -0.            -0.            -0.\n",
      "  3573.26621091    43.15084715  1018.42256624     0.\n",
      "     0.           793.99436321   757.17857291     0.\n",
      "  1896.92337055  2005.31085549  -573.72824726    -0.\n",
      "    -0.          -430.63812411     0.            -0.\n",
      "     0.          2631.71601824     0.             0.\n",
      "     0.        ]\n",
      "Lasso.intercept_: 181040.62404870635\n"
     ]
    }
   ],
   "source": [
    "from sklearn.model_selection import GridSearchCV\n",
    "\n",
    "from sklearn.linear_model import Lasso\n",
    "lasso = Lasso(random_state=0)\n",
    "\n",
    "#define a list of parameters\n",
    "param_lasso = {'alpha':[0.001, 0.01,10, 830, 850, 870,890, 900, 1000,1050,1100, 1150,1200, 1250, 1300, 20000] }\n",
    "\n",
    "grid_lasso = GridSearchCV(lasso, param_lasso, cv=10, return_train_score = True)\n",
    "grid_lasso.fit(X_train, y_train)\n",
    "\n",
    "\n",
    "# let's get the predictions\n",
    "X_train_preds = grid_lasso.predict(X_train)\n",
    "X_test_preds = grid_lasso.predict(X_test)\n",
    "\n",
    "\n",
    "# check model performance:\n",
    "\n",
    "print('train mse: {}'.format(mean_squared_error(y_train, X_train_preds)))\n",
    "print('train rmse: {}'.format(sqrt(mean_squared_error(y_train, X_train_preds))))\n",
    "print('train r2: {}'.format(r2_score(y_train, X_train_preds)))\n",
    "print()\n",
    "print('test mse: {}'.format(mean_squared_error(y_test, X_test_preds)))\n",
    "print('test rmse: {}'.format(sqrt(mean_squared_error(y_test, X_test_preds))))\n",
    "print('test r2: {}'.format(r2_score(y_test, X_test_preds)))\n",
    "\n",
    "print(\"Best parameters: {}\".format(grid_lasso.best_params_))\n",
    "print(\"Best cross-validation score: {:.4f}\".format(grid_lasso.best_score_))\n",
    "\n",
    "# print co-eff\n",
    "print()\n",
    "print(\"Lasso.coef_:\", grid_lasso.best_estimator_.coef_)\n",
    "print(\"Lasso.intercept_:\", grid_lasso.best_estimator_.intercept_)"
   ]
  },
  {
   "cell_type": "markdown",
   "metadata": {},
   "source": [
    "### ElasticNet Model"
   ]
  },
  {
   "cell_type": "code",
   "execution_count": 24,
   "metadata": {},
   "outputs": [
    {
     "name": "stdout",
     "output_type": "stream",
     "text": [
      "train mse: 560460520.2398212\n",
      "train rmse: 23674.04739878294\n",
      "train r2: 0.9102377304004107\n",
      "\n",
      "test mse: 872749277.5992304\n",
      "test rmse: 29542.33026691074\n",
      "test r2: 0.8730013625797748\n",
      "\n",
      "Best parameters: {'alpha': 0.1, 'l1_ratio': 0.2}\n",
      "\n",
      "Best cross-validation score: 0.8862\n"
     ]
    }
   ],
   "source": [
    "from sklearn.linear_model import ElasticNet\n",
    "from sklearn.model_selection import GridSearchCV\n",
    "elasticnet = ElasticNet()\n",
    "\n",
    "#define a list of parameters\n",
    "param_elasticnet = {'alpha':[0.00001, 0.0001, 0.001, 0.01, 0.1, 1, 10], 'l1_ratio' :[0.2,0.4,0.6,0.8]}\n",
    "\n",
    "grid_elasticnet = GridSearchCV(elasticnet , param_elasticnet, cv=10, return_train_score = True)\n",
    "grid_elasticnet.fit(X_train, y_train)\n",
    "\n",
    "\n",
    "\n",
    "# let's get the predictions\n",
    "X_train_preds = grid_elasticnet.predict(X_train)\n",
    "X_test_preds = grid_elasticnet.predict(X_test)\n",
    "\n",
    "\n",
    "# check model performance:\n",
    "\n",
    "print('train mse: {}'.format(mean_squared_error(y_train, X_train_preds)))\n",
    "print('train rmse: {}'.format(sqrt(mean_squared_error(y_train, X_train_preds))))\n",
    "print('train r2: {}'.format(r2_score(y_train, X_train_preds)))\n",
    "print()\n",
    "print('test mse: {}'.format(mean_squared_error(y_test, X_test_preds)))\n",
    "print('test rmse: {}'.format(sqrt(mean_squared_error(y_test, X_test_preds))))\n",
    "print('test r2: {}'.format(r2_score(y_test, X_test_preds)))\n",
    "print()\n",
    "print(\"Best parameters: {}\".format(grid_elasticnet.best_params_))\n",
    "print()\n",
    "print(\"Best cross-validation score: {:.4f}\".format(grid_elasticnet.best_score_))"
   ]
  },
  {
   "cell_type": "markdown",
   "metadata": {},
   "source": [
    "### KNeighbors Regressor Model"
   ]
  },
  {
   "cell_type": "code",
   "execution_count": 25,
   "metadata": {},
   "outputs": [
    {
     "name": "stdout",
     "output_type": "stream",
     "text": [
      "train mse: 982111247.4575994\n",
      "train rmse: 31338.654206229075\n",
      "train r2: 0.8427069679531471\n",
      "\n",
      "test mse: 1705067360.1413193\n",
      "test rmse: 41292.461299144175\n",
      "test r2: 0.7518860948893451\n",
      "\n",
      "Best parameters: {'knnreg__n_neighbors': 7}\n",
      "Best cross-validation score: 0.7860\n"
     ]
    }
   ],
   "source": [
    "from sklearn.neighbors import KNeighborsRegressor\n",
    "from sklearn.model_selection import GridSearchCV\n",
    "\n",
    "\n",
    "pipe_knn=Pipeline([ \n",
    "    ('scaler',MinMaxScaler()),\n",
    "    ('knnreg', KNeighborsRegressor())\n",
    "    \n",
    "])\n",
    "# define a list of parameters\n",
    "#param_knn = {'n_neighbors': [5, 10, 15, 20, 25, 30]}\n",
    "param_knn = {'knnreg__n_neighbors': range(1,25)}\n",
    "\n",
    "#apply grid search\n",
    "grid_knn = GridSearchCV(pipe_knn, param_knn, cv=10, return_train_score=True)\n",
    "grid_knn.fit(X_train, y_train)\n",
    "\n",
    "\n",
    "\n",
    "# let's get the predictions\n",
    "X_train_preds = grid_knn.predict(X_train)\n",
    "X_test_preds = grid_knn.predict(X_test)\n",
    "\n",
    "\n",
    "# check model performance:\n",
    "\n",
    "print('train mse: {}'.format(mean_squared_error(y_train, X_train_preds)))\n",
    "print('train rmse: {}'.format(sqrt(mean_squared_error(y_train, X_train_preds))))\n",
    "print('train r2: {}'.format(r2_score(y_train, X_train_preds)))\n",
    "print()\n",
    "print('test mse: {}'.format(mean_squared_error(y_test, X_test_preds)))\n",
    "print('test rmse: {}'.format(sqrt(mean_squared_error(y_test, X_test_preds))))\n",
    "print('test r2: {}'.format(r2_score(y_test, X_test_preds)))\n",
    "print()\n",
    "print(\"Best parameters: {}\".format(grid_knn.best_params_))\n",
    "print(\"Best cross-validation score: {:.4f}\".format(grid_knn.best_score_))"
   ]
  },
  {
   "cell_type": "markdown",
   "metadata": {},
   "source": [
    "### Decision Tree regression"
   ]
  },
  {
   "cell_type": "code",
   "execution_count": 26,
   "metadata": {},
   "outputs": [
    {
     "name": "stdout",
     "output_type": "stream",
     "text": [
      "train mse: 888179862.3715401\n",
      "train rmse: 29802.346591695426\n",
      "train r2: 0.8577508363568482\n",
      "\n",
      "test mse: 1376206728.4540532\n",
      "test rmse: 37097.260390142736\n",
      "test r2: 0.799740448020779\n",
      "\n",
      "Best parameters: {'max_depth': 5}\n",
      "Best cross-validation score: 0.7659\n"
     ]
    }
   ],
   "source": [
    "from sklearn.tree import DecisionTreeRegressor\n",
    "from sklearn.model_selection import GridSearchCV\n",
    "opt_tree = DecisionTreeRegressor(random_state = 0)\n",
    "param_DT = {\"max_depth\": range(1,10)}\n",
    "\n",
    "grid_tree = GridSearchCV(opt_tree,param_DT,cv=10)\n",
    "grid_tree.fit(X_train,y_train)\n",
    "\n",
    "\n",
    "# let's get the predictions\n",
    "X_train_preds = grid_tree.predict(X_train)\n",
    "X_test_preds = grid_tree.predict(X_test)\n",
    "\n",
    "\n",
    "# check model performance:\n",
    "\n",
    "print('train mse: {}'.format(mean_squared_error(y_train, X_train_preds)))\n",
    "print('train rmse: {}'.format(sqrt(mean_squared_error(y_train, X_train_preds))))\n",
    "print('train r2: {}'.format(r2_score(y_train, X_train_preds)))\n",
    "print()\n",
    "print('test mse: {}'.format(mean_squared_error(y_test, X_test_preds)))\n",
    "print('test rmse: {}'.format(sqrt(mean_squared_error(y_test, X_test_preds))))\n",
    "print('test r2: {}'.format(r2_score(y_test, X_test_preds)))\n",
    "print()\n",
    "print(\"Best parameters: {}\".format(grid_tree.best_params_))\n",
    "print(\"Best cross-validation score: {:.4f}\".format(grid_tree.best_score_))\n"
   ]
  },
  {
   "cell_type": "markdown",
   "metadata": {},
   "source": [
    "### SVM"
   ]
  },
  {
   "cell_type": "markdown",
   "metadata": {},
   "source": [
    "#### Multiple Model"
   ]
  },
  {
   "cell_type": "code",
   "execution_count": 27,
   "metadata": {},
   "outputs": [
    {
     "name": "stdout",
     "output_type": "stream",
     "text": [
      "List of grids:\n",
      "[{'kernel': ['rbf'], 'C': [0.001, 0.01, 0.1, 1, 10, 100], 'gamma': [0.001, 0.01, 0.1, 1, 10, 100]}, {'kernel': ['linear'], 'C': [0.001, 0.01, 0.1, 1, 10, 100]}, {'kernel': ['poly'], 'C': [0.001, 0.01, 0.1, 1, 10, 100], 'degree': [1, 2]}, {'kernel': ['sigmoid'], 'gamma': [0.001, 0.01, 0.1, 1, 10, 100]}]\n",
      "train mse: 735215244.1103501\n",
      "train rmse: 27114.852832172077\n",
      "train r2: 0.8822493528583922\n",
      "\n",
      "test mse: 1533068391.9520547\n",
      "test rmse: 39154.41727253842\n",
      "test r2: 0.7769146284652296\n",
      "\n",
      "Best parameters: {'C': 10, 'gamma': 0.001, 'kernel': 'rbf'}\n",
      "Best cross-validation score: 0.0190\n"
     ]
    }
   ],
   "source": [
    "param_grid = [{'kernel': ['rbf'],\n",
    "               'C': [0.001, 0.01, 0.1, 1, 10, 100],\n",
    "               'gamma': [0.001, 0.01, 0.1, 1, 10, 100]},\n",
    "              {'kernel': ['linear'],\n",
    "               'C': [0.001, 0.01, 0.1, 1, 10, 100]},\n",
    "              {'kernel': ['poly'],\n",
    "               'C': [0.001, 0.01, 0.1, 1, 10, 100],\n",
    "               'degree': [1,2]},\n",
    "              {'kernel': ['sigmoid'],\n",
    "               'gamma': [0.001, 0.01, 0.1, 1, 10, 100]}]\n",
    "              \n",
    "\n",
    "            \n",
    "              \n",
    "print(\"List of grids:\\n{}\".format(param_grid))\n",
    "\n",
    "from sklearn.svm import SVC\n",
    "\n",
    "grid_svc = GridSearchCV(SVC(), param_grid, cv=5,\n",
    "                          return_train_score=True)\n",
    "grid_svc.fit(X_train, y_train)\n",
    "\n",
    "# let's get the predictions\n",
    "X_train_preds = grid_svc.predict(X_train)\n",
    "X_test_preds = grid_svc.predict(X_test)\n",
    "\n",
    "\n",
    "# check model performance:\n",
    "\n",
    "print('train mse: {}'.format(mean_squared_error(y_train, X_train_preds)))\n",
    "print('train rmse: {}'.format(sqrt(mean_squared_error(y_train, X_train_preds))))\n",
    "print('train r2: {}'.format(r2_score(y_train, X_train_preds)))\n",
    "print()\n",
    "print('test mse: {}'.format(mean_squared_error(y_test, X_test_preds)))\n",
    "print('test rmse: {}'.format(sqrt(mean_squared_error(y_test, X_test_preds))))\n",
    "print('test r2: {}'.format(r2_score(y_test, X_test_preds)))\n",
    "print()\n",
    "print(\"Best parameters: {}\".format(grid_svc.best_params_))\n",
    "print(\"Best cross-validation score: {:.4f}\".format(grid_svc.best_score_))"
   ]
  },
  {
   "cell_type": "markdown",
   "metadata": {},
   "source": [
    "#### Linear SVC"
   ]
  },
  {
   "cell_type": "code",
   "execution_count": 28,
   "metadata": {},
   "outputs": [
    {
     "name": "stdout",
     "output_type": "stream",
     "text": [
      "train mse: 681963747.6400304\n",
      "train rmse: 26114.435617872932\n",
      "train r2: 0.890778009222457\n",
      "\n",
      "test mse: 6070862824.383562\n",
      "test rmse: 77915.74182656263\n",
      "test r2: 0.11659473522262309\n",
      "\n",
      "Best parameters: {'C': 10}\n",
      "Best cross-validation score: 0.0129\n"
     ]
    }
   ],
   "source": [
    "from sklearn.svm import SVC, LinearSVC\n",
    "\n",
    "svc_kernel = LinearSVC()\n",
    "\n",
    "#define a list of parameters\n",
    "param_svc_kernel = {'C': [1,10,100,1000,10000]}\n",
    "\n",
    "#apply grid search\n",
    "grid_svc_lin_kernel = GridSearchCV(svc_kernel, param_svc_kernel, cv=5, n_jobs=-1)\n",
    "grid_svc_lin_kernel.fit(X_train, y_train)\n",
    "\n",
    "\n",
    "\n",
    "# let's get the predictions\n",
    "X_train_preds = grid_svc_lin_kernel.predict(X_train)\n",
    "X_test_preds = grid_svc_lin_kernel.predict(X_test)\n",
    "\n",
    "\n",
    "# check model performance:\n",
    "\n",
    "print('train mse: {}'.format(mean_squared_error(y_train, X_train_preds)))\n",
    "print('train rmse: {}'.format(sqrt(mean_squared_error(y_train, X_train_preds))))\n",
    "print('train r2: {}'.format(r2_score(y_train, X_train_preds)))\n",
    "print()\n",
    "print('test mse: {}'.format(mean_squared_error(y_test, X_test_preds)))\n",
    "print('test rmse: {}'.format(sqrt(mean_squared_error(y_test, X_test_preds))))\n",
    "print('test r2: {}'.format(r2_score(y_test, X_test_preds)))\n",
    "print()\n",
    "print(\"Best parameters: {}\".format(grid_svc_lin_kernel.best_params_))\n",
    "print(\"Best cross-validation score: {:.4f}\".format(grid_svc_lin_kernel.best_score_))"
   ]
  },
  {
   "cell_type": "markdown",
   "metadata": {},
   "source": [
    "#### SVC With rbf Kernel"
   ]
  },
  {
   "cell_type": "code",
   "execution_count": 29,
   "metadata": {},
   "outputs": [
    {
     "name": "stdout",
     "output_type": "stream",
     "text": [
      "train mse: 735215244.1103501\n",
      "train rmse: 27114.852832172077\n",
      "train r2: 0.8822493528583922\n",
      "\n",
      "test mse: 1533068391.9520547\n",
      "test rmse: 39154.41727253842\n",
      "test r2: 0.7769146284652296\n",
      "\n",
      "Best parameters: {'C': 10, 'gamma': 0.001}\n",
      "Best cross-validation score: 0.0190\n"
     ]
    }
   ],
   "source": [
    "svc_kernel = SVC(kernel = 'rbf')\n",
    "\n",
    "#define a list of parameters\n",
    "param_svc_kernel = {'C': [1,10,100,1000,10000],'gamma':[0.001,0.001,0.1,1,10]}\n",
    "\n",
    "#apply grid search\n",
    "grid_svc_rbf_kernel = GridSearchCV(svc_kernel, param_svc_kernel, cv=5, n_jobs=-1)\n",
    "grid_svc_rbf_kernel.fit(X_train, y_train)\n",
    "\n",
    "\n",
    "\n",
    "# let's get the predictions\n",
    "X_train_preds = grid_svc_rbf_kernel.predict(X_train)\n",
    "X_test_preds = grid_svc_rbf_kernel.predict(X_test)\n",
    "\n",
    "\n",
    "# check model performance:\n",
    "\n",
    "print('train mse: {}'.format(mean_squared_error(y_train, X_train_preds)))\n",
    "print('train rmse: {}'.format(sqrt(mean_squared_error(y_train, X_train_preds))))\n",
    "print('train r2: {}'.format(r2_score(y_train, X_train_preds)))\n",
    "print()\n",
    "print('test mse: {}'.format(mean_squared_error(y_test, X_test_preds)))\n",
    "print('test rmse: {}'.format(sqrt(mean_squared_error(y_test, X_test_preds))))\n",
    "print('test r2: {}'.format(r2_score(y_test, X_test_preds)))\n",
    "print()\n",
    "print(\"Best parameters: {}\".format(grid_svc_rbf_kernel.best_params_))\n",
    "print(\"Best cross-validation score: {:.4f}\".format(grid_svc_rbf_kernel.best_score_))"
   ]
  },
  {
   "cell_type": "markdown",
   "metadata": {},
   "source": [
    "#### SVC With Poly Kernel"
   ]
  },
  {
   "cell_type": "code",
   "execution_count": 30,
   "metadata": {},
   "outputs": [
    {
     "name": "stdout",
     "output_type": "stream",
     "text": [
      "train mse: 2423078838.628615\n",
      "train rmse: 49224.778705735334\n",
      "train r2: 0.6119243941018848\n",
      "\n",
      "test mse: 3182337056.3356166\n",
      "test rmse: 56412.20662530067\n",
      "test r2: 0.5369203042158206\n",
      "\n",
      "Best parameters: {'C': 1, 'degree': 2}\n",
      "Best cross-validation score: 0.0175\n"
     ]
    }
   ],
   "source": [
    "svc_kernel = SVC(kernel = 'poly')\n",
    "\n",
    "#define a list of parameters\n",
    "param_svc_kernel = {'C': [0.001, 0.01, 0.1, 1, 10, 100],'degree': [1,2]}\n",
    "\n",
    "#apply grid search\n",
    "grid_svc_poly_kernel = GridSearchCV(svc_kernel, param_svc_kernel, cv=5, n_jobs=2)\n",
    "grid_svc_poly_kernel.fit(X_train, y_train)\n",
    "\n",
    "\n",
    "\n",
    "# let's get the predictions\n",
    "X_train_preds = grid_svc_poly_kernel.predict(X_train)\n",
    "X_test_preds = grid_svc_poly_kernel.predict(X_test)\n",
    "\n",
    "\n",
    "# check model performance:\n",
    "\n",
    "print('train mse: {}'.format(mean_squared_error(y_train, X_train_preds)))\n",
    "print('train rmse: {}'.format(sqrt(mean_squared_error(y_train, X_train_preds))))\n",
    "print('train r2: {}'.format(r2_score(y_train, X_train_preds)))\n",
    "print()\n",
    "print('test mse: {}'.format(mean_squared_error(y_test, X_test_preds)))\n",
    "print('test rmse: {}'.format(sqrt(mean_squared_error(y_test, X_test_preds))))\n",
    "print('test r2: {}'.format(r2_score(y_test, X_test_preds)))\n",
    "print()\n",
    "print(\"Best parameters: {}\".format(grid_svc_poly_kernel.best_params_))\n",
    "print(\"Best cross-validation score: {:.4f}\".format(grid_svc_poly_kernel.best_score_))"
   ]
  },
  {
   "cell_type": "markdown",
   "metadata": {},
   "source": [
    "#### SVC With sigmoid Kernel"
   ]
  },
  {
   "cell_type": "code",
   "execution_count": 31,
   "metadata": {},
   "outputs": [
    {
     "name": "stdout",
     "output_type": "stream",
     "text": [
      "train mse: 3572162767.3774734\n",
      "train rmse: 59767.5728750756\n",
      "train r2: 0.4278893413549495\n",
      "\n",
      "test mse: 4224885047.972603\n",
      "test rmse: 64999.11574762077\n",
      "test r2: 0.38521330452937785\n",
      "\n",
      "Best parameters: {'gamma': 0.1}\n",
      "Best cross-validation score: 0.0152\n"
     ]
    }
   ],
   "source": [
    "svc_kernel = SVC(kernel = 'sigmoid')\n",
    "\n",
    "#define a list of parameters\n",
    "param_svc_kernel = {'gamma':[0.001,0.001,0.1,1,10]}\n",
    "\n",
    "#apply grid search\n",
    "grid_svc_sig_kernel = GridSearchCV(svc_kernel, param_svc_kernel, cv=5, n_jobs=-1)\n",
    "grid_svc_sig_kernel.fit(X_train, y_train)\n",
    "\n",
    "\n",
    "\n",
    "# let's get the predictions\n",
    "X_train_preds = grid_svc_sig_kernel.predict(X_train)\n",
    "X_test_preds = grid_svc_sig_kernel.predict(X_test)\n",
    "\n",
    "\n",
    "# check model performance:\n",
    "\n",
    "print('train mse: {}'.format(mean_squared_error(y_train, X_train_preds)))\n",
    "print('train rmse: {}'.format(sqrt(mean_squared_error(y_train, X_train_preds))))\n",
    "print('train r2: {}'.format(r2_score(y_train, X_train_preds)))\n",
    "print()\n",
    "print('test mse: {}'.format(mean_squared_error(y_test, X_test_preds)))\n",
    "print('test rmse: {}'.format(sqrt(mean_squared_error(y_test, X_test_preds))))\n",
    "print('test r2: {}'.format(r2_score(y_test, X_test_preds)))\n",
    "print()\n",
    "print(\"Best parameters: {}\".format(grid_svc_sig_kernel.best_params_))\n",
    "print(\"Best cross-validation score: {:.4f}\".format(grid_svc_sig_kernel.best_score_))"
   ]
  },
  {
   "cell_type": "markdown",
   "metadata": {},
   "source": [
    "# Ensemble"
   ]
  },
  {
   "cell_type": "markdown",
   "metadata": {},
   "source": [
    "## Bagging"
   ]
  },
  {
   "cell_type": "code",
   "execution_count": 32,
   "metadata": {},
   "outputs": [],
   "source": [
    "from sklearn.ensemble import BaggingRegressor\n",
    "from sklearn.linear_model import Lasso\n",
    "from sklearn.ensemble import BaggingRegressor\n",
    "from sklearn.tree import DecisionTreeRegressor\n",
    "from sklearn.neighbors import KNeighborsRegressor\n",
    "from sklearn.ensemble import AdaBoostRegressor\n",
    "from sklearn.ensemble import RandomForestRegressor\n",
    "from  sklearn.ensemble import ExtraTreesRegressor\n",
    "from sklearn.ensemble import GradientBoostingRegressor\n",
    "from xgboost import XGBRegressor\n",
    "from sklearn.ensemble import VotingRegressor"
   ]
  },
  {
   "cell_type": "markdown",
   "metadata": {},
   "source": [
    "### Bagging with Lasso"
   ]
  },
  {
   "cell_type": "code",
   "execution_count": 77,
   "metadata": {},
   "outputs": [
    {
     "data": {
      "text/plain": [
       "GridSearchCV(cv=10, error_score=nan,\n",
       "             estimator=BaggingRegressor(base_estimator=Lasso(alpha=1.0,\n",
       "                                                             copy_X=True,\n",
       "                                                             fit_intercept=True,\n",
       "                                                             max_iter=1000,\n",
       "                                                             normalize=False,\n",
       "                                                             positive=False,\n",
       "                                                             precompute=False,\n",
       "                                                             random_state=None,\n",
       "                                                             selection='cyclic',\n",
       "                                                             tol=0.0001,\n",
       "                                                             warm_start=False),\n",
       "                                        bootstrap=True,\n",
       "                                        bootstrap_features=False,\n",
       "                                        max_features=1.0, max_samples=1.0,\n",
       "                                        n_estimators=10, n_jobs=None,\n",
       "                                        oob_score=True, random_state=0,\n",
       "                                        verbose=0, warm_start=False),\n",
       "             iid='deprecated', n_jobs=None,\n",
       "             param_grid={'max_samples': [0.8, 1],\n",
       "                         'n_estimators': [10, 25, 100]},\n",
       "             pre_dispatch='2*n_jobs', refit=True, return_train_score=True,\n",
       "             scoring=None, verbose=0)"
      ]
     },
     "execution_count": 77,
     "metadata": {},
     "output_type": "execute_result"
    }
   ],
   "source": [
    "\n",
    "bag_lasso = BaggingRegressor(base_estimator=Lasso(), bootstrap=True, random_state=0, oob_score=True)\n",
    "\n",
    "bag_lasso_param =  {\n",
    "                 #'base_estimator__C': [0.001,0.01,0.1,1,10,100],\n",
    "                 'max_samples':  [0.8,1],\n",
    "                 'n_estimators': [10,25,100]}\n",
    "\n",
    "bag_lasso_grid = GridSearchCV(bag_lasso, bag_lasso_param,cv=10, return_train_score=True, )\n",
    "bag_lasso_grid.fit(X_train,y_train)"
   ]
  },
  {
   "cell_type": "code",
   "execution_count": 157,
   "metadata": {},
   "outputs": [
    {
     "name": "stdout",
     "output_type": "stream",
     "text": [
      "train mse: 559822958.8006449\n",
      "train rmse: 23660.578158630124\n",
      "train r2: 0.9103398410036074\n",
      "\n",
      "test mse: 840245660.0591499\n",
      "test rmse: 28986.991221221113\n",
      "test r2: 0.877731146086641\n",
      "\n",
      "Best parameters: {'max_samples': 0.8, 'n_estimators': 25}\n",
      "Best cross-validation score: 0.8866\n"
     ]
    }
   ],
   "source": [
    "# let's get the predictions\n",
    "X_train_preds = bag_lasso_grid.predict(X_train)\n",
    "X_test_preds = bag_lasso_grid.predict(X_test)\n",
    "\n",
    "\n",
    "# check model performance:\n",
    "\n",
    "print('train mse: {}'.format(mean_squared_error(y_train, X_train_preds)))\n",
    "print('train rmse: {}'.format(sqrt(mean_squared_error(y_train, X_train_preds))))\n",
    "print('train r2: {}'.format(r2_score(y_train, X_train_preds)))\n",
    "print()\n",
    "print('test mse: {}'.format(mean_squared_error(y_test, X_test_preds)))\n",
    "print('test rmse: {}'.format(sqrt(mean_squared_error(y_test, X_test_preds))))\n",
    "print('test r2: {}'.format(r2_score(y_test, X_test_preds)))\n",
    "print()\n",
    "print(\"Best parameters: {}\".format(bag_lasso_grid.best_params_))\n",
    "print(\"Best cross-validation score: {:.4f}\".format(bag_lasso_grid.best_score_))"
   ]
  },
  {
   "cell_type": "markdown",
   "metadata": {},
   "source": [
    "### Bagging with Decision Tree"
   ]
  },
  {
   "cell_type": "code",
   "execution_count": 35,
   "metadata": {},
   "outputs": [
    {
     "data": {
      "text/plain": [
       "GridSearchCV(cv=5, error_score=nan,\n",
       "             estimator=BaggingRegressor(base_estimator=DecisionTreeRegressor(ccp_alpha=0.0,\n",
       "                                                                             criterion='mse',\n",
       "                                                                             max_depth=None,\n",
       "                                                                             max_features=None,\n",
       "                                                                             max_leaf_nodes=None,\n",
       "                                                                             min_impurity_decrease=0.0,\n",
       "                                                                             min_impurity_split=None,\n",
       "                                                                             min_samples_leaf=1,\n",
       "                                                                             min_samples_split=2,\n",
       "                                                                             min_weight_fraction_leaf=0.0,\n",
       "                                                                             presort='deprecated',\n",
       "                                                                             random_state=None,\n",
       "                                                                             splitter='be...\n",
       "                                        bootstrap_features=False,\n",
       "                                        max_features=1.0, max_samples=1.0,\n",
       "                                        n_estimators=10, n_jobs=None,\n",
       "                                        oob_score=True, random_state=0,\n",
       "                                        verbose=0, warm_start=False),\n",
       "             iid='deprecated', n_jobs=None,\n",
       "             param_grid={'base_estimator__max_depth': range(1, 20),\n",
       "                         'max_samples': [0.8, 1],\n",
       "                         'n_estimators': [150, 75, 100]},\n",
       "             pre_dispatch='2*n_jobs', refit=True, return_train_score=True,\n",
       "             scoring=None, verbose=0)"
      ]
     },
     "execution_count": 35,
     "metadata": {},
     "output_type": "execute_result"
    }
   ],
   "source": [
    "bag_dtree1 = BaggingRegressor(base_estimator=DecisionTreeRegressor(), bootstrap=True, random_state=0, oob_score=True)\n",
    "\n",
    "bag_dtree1_param = {\n",
    "                 'base_estimator__max_depth': range(1,20),\n",
    "                 'max_samples':  [0.8,1],\n",
    "                 'n_estimators': [150,75,100]}\n",
    "bag_dtree1_grid = GridSearchCV(bag_dtree1, bag_dtree1_param,cv=5, return_train_score=True, )\n",
    "bag_dtree1_grid.fit(X_train,y_train)"
   ]
  },
  {
   "cell_type": "code",
   "execution_count": 158,
   "metadata": {},
   "outputs": [
    {
     "name": "stdout",
     "output_type": "stream",
     "text": [
      "train mse: 197180943.54051313\n",
      "train rmse: 14042.113214915806\n",
      "train r2: 0.9684198826236479\n",
      "\n",
      "test mse: 908379345.208796\n",
      "test rmse: 30139.332195800158\n",
      "test r2: 0.8678166318057171\n",
      "\n",
      "Best parameters: {'base_estimator__max_depth': 10, 'max_samples': 0.8, 'n_estimators': 150}\n",
      "Best cross-validation score: 0.8754\n"
     ]
    }
   ],
   "source": [
    "# let's get the predictions\n",
    "X_train_preds = bag_dtree1_grid.predict(X_train)\n",
    "X_test_preds = bag_dtree1_grid.predict(X_test)\n",
    "\n",
    "\n",
    "# check model performance:\n",
    "\n",
    "print('train mse: {}'.format(mean_squared_error(y_train, X_train_preds)))\n",
    "print('train rmse: {}'.format(sqrt(mean_squared_error(y_train, X_train_preds))))\n",
    "print('train r2: {}'.format(r2_score(y_train, X_train_preds)))\n",
    "print()\n",
    "print('test mse: {}'.format(mean_squared_error(y_test, X_test_preds)))\n",
    "print('test rmse: {}'.format(sqrt(mean_squared_error(y_test, X_test_preds))))\n",
    "print('test r2: {}'.format(r2_score(y_test, X_test_preds)))\n",
    "print()\n",
    "print(\"Best parameters: {}\".format(bag_dtree1_grid.best_params_))\n",
    "print(\"Best cross-validation score: {:.4f}\".format(bag_dtree1_grid.best_score_))"
   ]
  },
  {
   "cell_type": "markdown",
   "metadata": {},
   "source": [
    "## Pasting"
   ]
  },
  {
   "cell_type": "markdown",
   "metadata": {},
   "source": [
    "### Pasting with Lasso"
   ]
  },
  {
   "cell_type": "code",
   "execution_count": 66,
   "metadata": {},
   "outputs": [
    {
     "data": {
      "text/plain": [
       "GridSearchCV(cv=10, error_score=nan,\n",
       "             estimator=BaggingRegressor(base_estimator=Lasso(alpha=1.0,\n",
       "                                                             copy_X=True,\n",
       "                                                             fit_intercept=True,\n",
       "                                                             max_iter=1000,\n",
       "                                                             normalize=False,\n",
       "                                                             positive=False,\n",
       "                                                             precompute=False,\n",
       "                                                             random_state=None,\n",
       "                                                             selection='cyclic',\n",
       "                                                             tol=0.0001,\n",
       "                                                             warm_start=False),\n",
       "                                        bootstrap=False,\n",
       "                                        bootstrap_features=False,\n",
       "                                        max_features=1.0, max_samples=1.0,\n",
       "                                        n_estimators=10, n_jobs=None,\n",
       "                                        oob_score=False, random_state=0,\n",
       "                                        verbose=0, warm_start=False),\n",
       "             iid='deprecated', n_jobs=None,\n",
       "             param_grid={'max_samples': [0.8, 1],\n",
       "                         'n_estimators': [10, 20, 25, 30]},\n",
       "             pre_dispatch='2*n_jobs', refit=True, return_train_score=True,\n",
       "             scoring=None, verbose=0)"
      ]
     },
     "execution_count": 66,
     "metadata": {},
     "output_type": "execute_result"
    }
   ],
   "source": [
    "paste_lasso1 = BaggingRegressor(base_estimator=Lasso(), bootstrap=False, random_state=0, oob_score=False)\n",
    "\n",
    "paste_lasso_param = {\n",
    "                 #'base_estimator__C': [0.001,0.01,0.1,1,10,100],\n",
    "                 'max_samples':  [0.8,1],\n",
    "                 'n_estimators': [10,20,25,30]}\n",
    "paste_lasso1 = GridSearchCV(paste_lasso1, paste_lasso_param,cv=10, return_train_score=True, )\n",
    "paste_lasso1.fit(X_train,y_train)\n"
   ]
  },
  {
   "cell_type": "code",
   "execution_count": 159,
   "metadata": {},
   "outputs": [
    {
     "name": "stdout",
     "output_type": "stream",
     "text": [
      "train mse: 553741675.4340827\n",
      "train rmse: 23531.71637246384\n",
      "train r2: 0.9113138075495959\n",
      "\n",
      "test mse: 856841455.5885628\n",
      "test rmse: 29271.854324394328\n",
      "test r2: 0.8753161988924849\n",
      "\n",
      "Best parameters: {'max_samples': 0.8, 'n_estimators': 25}\n",
      "Best cross-validation score: 0.8849\n"
     ]
    }
   ],
   "source": [
    "# let's get the predictions\n",
    "X_train_preds = paste_lasso1.predict(X_train)\n",
    "X_test_preds = paste_lasso1.predict(X_test)\n",
    "\n",
    "\n",
    "# check model performance:\n",
    "\n",
    "print('train mse: {}'.format(mean_squared_error(y_train, X_train_preds)))\n",
    "print('train rmse: {}'.format(sqrt(mean_squared_error(y_train, X_train_preds))))\n",
    "print('train r2: {}'.format(r2_score(y_train, X_train_preds)))\n",
    "print()\n",
    "print('test mse: {}'.format(mean_squared_error(y_test, X_test_preds)))\n",
    "print('test rmse: {}'.format(sqrt(mean_squared_error(y_test, X_test_preds))))\n",
    "print('test r2: {}'.format(r2_score(y_test, X_test_preds)))\n",
    "print()\n",
    "print(\"Best parameters: {}\".format(paste_lasso1.best_params_))\n",
    "print(\"Best cross-validation score: {:.4f}\".format(paste_lasso1.best_score_))"
   ]
  },
  {
   "cell_type": "markdown",
   "metadata": {},
   "source": [
    "### Pasting with Decision Tree"
   ]
  },
  {
   "cell_type": "code",
   "execution_count": 73,
   "metadata": {},
   "outputs": [
    {
     "data": {
      "text/plain": [
       "GridSearchCV(cv=5, error_score=nan,\n",
       "             estimator=BaggingRegressor(base_estimator=DecisionTreeRegressor(ccp_alpha=0.0,\n",
       "                                                                             criterion='mse',\n",
       "                                                                             max_depth=10,\n",
       "                                                                             max_features=None,\n",
       "                                                                             max_leaf_nodes=5,\n",
       "                                                                             min_impurity_decrease=0.0,\n",
       "                                                                             min_impurity_split=None,\n",
       "                                                                             min_samples_leaf=1,\n",
       "                                                                             min_samples_split=3,\n",
       "                                                                             min_weight_fraction_leaf=0.0,\n",
       "                                                                             presort='deprecated',\n",
       "                                                                             random_state=None,\n",
       "                                                                             splitter='random'),\n",
       "                                        bootstrap=False,\n",
       "                                        bootstrap_features=False,\n",
       "                                        max_features=1.0, max_samples=1.0,\n",
       "                                        n_estimators=10, n_jobs=None,\n",
       "                                        oob_score=False, random_state=0,\n",
       "                                        verbose=0, warm_start=False),\n",
       "             iid='deprecated', n_jobs=None,\n",
       "             param_grid={'max_samples': [0.8, 1],\n",
       "                         'n_estimators': [10, 25, 100]},\n",
       "             pre_dispatch='2*n_jobs', refit=True, return_train_score=True,\n",
       "             scoring=None, verbose=0)"
      ]
     },
     "execution_count": 73,
     "metadata": {},
     "output_type": "execute_result"
    }
   ],
   "source": [
    "paste_dtree2 = BaggingRegressor(DecisionTreeRegressor(max_depth= 10, max_leaf_nodes=5, min_samples_split= 3, splitter= 'random'), bootstrap=False, random_state=0, oob_score=False)\n",
    "\n",
    "paste_dtree2_param = {\n",
    "                 'max_samples':  [0.8,1],\n",
    "                 'n_estimators': [10,25,100]}\n",
    "paste_dtree2_grid = GridSearchCV(paste_dtree2, paste_dtree2_param,cv=5, return_train_score=True, )\n",
    "paste_dtree2_grid.fit(X_train,y_train)"
   ]
  },
  {
   "cell_type": "code",
   "execution_count": 160,
   "metadata": {},
   "outputs": [
    {
     "name": "stdout",
     "output_type": "stream",
     "text": [
      "train mse: 1501180604.8944592\n",
      "train rmse: 38745.07200786262\n",
      "train r2: 0.7595738266871113\n",
      "\n",
      "test mse: 1819024095.6569026\n",
      "test rmse: 42650.01870640742\n",
      "test r2: 0.735303611801938\n",
      "\n",
      "Best parameters: {'max_samples': 0.8, 'n_estimators': 100}\n",
      "Best cross-validation score: 0.7336\n"
     ]
    }
   ],
   "source": [
    "# let's get the predictions\n",
    "X_train_preds = paste_dtree2_grid.predict(X_train)\n",
    "X_test_preds = paste_dtree2_grid.predict(X_test)\n",
    "\n",
    "\n",
    "# check model performance:\n",
    "\n",
    "print('train mse: {}'.format(mean_squared_error(y_train, X_train_preds)))\n",
    "print('train rmse: {}'.format(sqrt(mean_squared_error(y_train, X_train_preds))))\n",
    "print('train r2: {}'.format(r2_score(y_train, X_train_preds)))\n",
    "print()\n",
    "print('test mse: {}'.format(mean_squared_error(y_test, X_test_preds)))\n",
    "print('test rmse: {}'.format(sqrt(mean_squared_error(y_test, X_test_preds))))\n",
    "print('test r2: {}'.format(r2_score(y_test, X_test_preds)))\n",
    "print()\n",
    "print(\"Best parameters: {}\".format(paste_dtree2_grid.best_params_))\n",
    "print(\"Best cross-validation score: {:.4f}\".format(paste_dtree2_grid.best_score_))"
   ]
  },
  {
   "cell_type": "markdown",
   "metadata": {},
   "source": [
    "## Random forest"
   ]
  },
  {
   "cell_type": "code",
   "execution_count": 39,
   "metadata": {},
   "outputs": [
    {
     "data": {
      "text/plain": [
       "GridSearchCV(cv=5, error_score=nan,\n",
       "             estimator=RandomForestRegressor(bootstrap=True, ccp_alpha=0.0,\n",
       "                                             criterion='mse', max_depth=None,\n",
       "                                             max_features='auto',\n",
       "                                             max_leaf_nodes=None,\n",
       "                                             max_samples=None,\n",
       "                                             min_impurity_decrease=0.0,\n",
       "                                             min_impurity_split=None,\n",
       "                                             min_samples_leaf=1,\n",
       "                                             min_samples_split=2,\n",
       "                                             min_weight_fraction_leaf=0.0,\n",
       "                                             n_estimators=100, n_jobs=None,\n",
       "                                             oob_score=False, random_state=42,\n",
       "                                             verbose=0, warm_start=False),\n",
       "             iid='deprecated', n_jobs=None,\n",
       "             param_grid={'max_depth': [2, 4, 5, 6, 7, 8],\n",
       "                         'max_features': ['auto', 'sqrt', 'log2'],\n",
       "                         'n_estimators': [200, 500]},\n",
       "             pre_dispatch='2*n_jobs', refit=True, return_train_score=True,\n",
       "             scoring=None, verbose=0)"
      ]
     },
     "execution_count": 39,
     "metadata": {},
     "output_type": "execute_result"
    }
   ],
   "source": [
    "rfc =RandomForestRegressor(random_state=42)\n",
    "rfc_param = { \n",
    "    'n_estimators': [200, 500],\n",
    "    'max_features': ['auto', 'sqrt', 'log2'],\n",
    "    'max_depth' : [2,4,5,6,7,8],\n",
    "    #'criterion' :['gini', 'entropy']\n",
    "}\n",
    "\n",
    "rfc_grid = GridSearchCV(rfc, rfc_param,cv=5, return_train_score=True, )\n",
    "rfc_grid.fit(X_train,y_train)"
   ]
  },
  {
   "cell_type": "code",
   "execution_count": 161,
   "metadata": {},
   "outputs": [
    {
     "name": "stdout",
     "output_type": "stream",
     "text": [
      "train mse: 300882919.1206449\n",
      "train rmse: 17345.977029866175\n",
      "train r2: 0.9518111754018606\n",
      "\n",
      "test mse: 948246575.1996439\n",
      "test rmse: 30793.612571435067\n",
      "test r2: 0.8620153277926287\n",
      "\n",
      "Best parameters: {'max_depth': 8, 'max_features': 'sqrt', 'n_estimators': 200}\n",
      "Best cross-validation score: 0.8684\n"
     ]
    }
   ],
   "source": [
    "# let's get the predictions\n",
    "X_train_preds = rfc_grid.predict(X_train)\n",
    "X_test_preds = rfc_grid.predict(X_test)\n",
    "\n",
    "\n",
    "# check model performance:\n",
    "\n",
    "print('train mse: {}'.format(mean_squared_error(y_train, X_train_preds)))\n",
    "print('train rmse: {}'.format(sqrt(mean_squared_error(y_train, X_train_preds))))\n",
    "print('train r2: {}'.format(r2_score(y_train, X_train_preds)))\n",
    "print()\n",
    "print('test mse: {}'.format(mean_squared_error(y_test, X_test_preds)))\n",
    "print('test rmse: {}'.format(sqrt(mean_squared_error(y_test, X_test_preds))))\n",
    "print('test r2: {}'.format(r2_score(y_test, X_test_preds)))\n",
    "print()\n",
    "print(\"Best parameters: {}\".format(rfc_grid.best_params_))\n",
    "print(\"Best cross-validation score: {:.4f}\".format(rfc_grid.best_score_))"
   ]
  },
  {
   "cell_type": "markdown",
   "metadata": {},
   "source": [
    "## Extra-Trees"
   ]
  },
  {
   "cell_type": "code",
   "execution_count": 41,
   "metadata": {},
   "outputs": [
    {
     "data": {
      "text/plain": [
       "GridSearchCV(cv=5, error_score=nan,\n",
       "             estimator=ExtraTreesRegressor(bootstrap=False, ccp_alpha=0.0,\n",
       "                                           criterion='mse', max_depth=None,\n",
       "                                           max_features='auto',\n",
       "                                           max_leaf_nodes=None,\n",
       "                                           max_samples=None,\n",
       "                                           min_impurity_decrease=0.0,\n",
       "                                           min_impurity_split=None,\n",
       "                                           min_samples_leaf=1,\n",
       "                                           min_samples_split=2,\n",
       "                                           min_weight_fraction_leaf=0.0,\n",
       "                                           n_estimators=100, n_jobs=None,\n",
       "                                           oob_score=False, random_state=42,\n",
       "                                           verbose=0, warm_start=False),\n",
       "             iid='deprecated', n_jobs=None,\n",
       "             param_grid={'max_depth': [2, 4, 5, 6, 7, 8],\n",
       "                         'max_features': ['auto', 'sqrt', 'log2'],\n",
       "                         'n_estimators': [200, 500]},\n",
       "             pre_dispatch='2*n_jobs', refit=True, return_train_score=True,\n",
       "             scoring=None, verbose=0)"
      ]
     },
     "execution_count": 41,
     "metadata": {},
     "output_type": "execute_result"
    }
   ],
   "source": [
    "etc= ExtraTreesRegressor(random_state=42)\n",
    "etc_param = { \n",
    "    'n_estimators': [200, 500],\n",
    "    'max_features': ['auto', 'sqrt', 'log2'],\n",
    "    'max_depth' : [2,4,5,6,7,8],\n",
    "   # 'criterion' :['gini', 'entropy']\n",
    "}\n",
    "etc_grid = GridSearchCV(etc, etc_param,cv=5, return_train_score=True, )\n",
    "etc_grid.fit(X_train,y_train)"
   ]
  },
  {
   "cell_type": "code",
   "execution_count": 162,
   "metadata": {},
   "outputs": [
    {
     "name": "stdout",
     "output_type": "stream",
     "text": [
      "train mse: 170102255.64205065\n",
      "train rmse: 13042.325545777894\n",
      "train r2: 0.9727567527434288\n",
      "\n",
      "test mse: 994958957.0680267\n",
      "test rmse: 31542.970010257857\n",
      "test r2: 0.8552179473762773\n",
      "\n",
      "Best parameters: {'max_depth': 8, 'max_features': 'auto', 'n_estimators': 500}\n",
      "Best cross-validation score: 0.8670\n"
     ]
    }
   ],
   "source": [
    "# let's get the predictions\n",
    "X_train_preds = etc_grid.predict(X_train)\n",
    "X_test_preds = etc_grid.predict(X_test)\n",
    "\n",
    "\n",
    "# check model performance:\n",
    "\n",
    "print('train mse: {}'.format(mean_squared_error(y_train, X_train_preds)))\n",
    "print('train rmse: {}'.format(sqrt(mean_squared_error(y_train, X_train_preds))))\n",
    "print('train r2: {}'.format(r2_score(y_train, X_train_preds)))\n",
    "print()\n",
    "print('test mse: {}'.format(mean_squared_error(y_test, X_test_preds)))\n",
    "print('test rmse: {}'.format(sqrt(mean_squared_error(y_test, X_test_preds))))\n",
    "print('test r2: {}'.format(r2_score(y_test, X_test_preds)))\n",
    "print()\n",
    "print(\"Best parameters: {}\".format(etc_grid.best_params_))\n",
    "print(\"Best cross-validation score: {:.4f}\".format(etc_grid.best_score_))"
   ]
  },
  {
   "cell_type": "markdown",
   "metadata": {},
   "source": [
    "## Ada Boost"
   ]
  },
  {
   "cell_type": "code",
   "execution_count": 43,
   "metadata": {},
   "outputs": [
    {
     "data": {
      "text/plain": [
       "GridSearchCV(cv=5, error_score=nan,\n",
       "             estimator=AdaBoostRegressor(base_estimator=DecisionTreeRegressor(ccp_alpha=0.0,\n",
       "                                                                              criterion='mse',\n",
       "                                                                              max_depth=None,\n",
       "                                                                              max_features=None,\n",
       "                                                                              max_leaf_nodes=None,\n",
       "                                                                              min_impurity_decrease=0.0,\n",
       "                                                                              min_impurity_split=None,\n",
       "                                                                              min_samples_leaf=1,\n",
       "                                                                              min_samples_split=2,\n",
       "                                                                              min_weight_fraction_leaf=0.0,\n",
       "                                                                              presort='deprecated',\n",
       "                                                                              random_state=None,\n",
       "                                                                              splitter='best'),\n",
       "                                         learning_rate=1.0, loss='linear',\n",
       "                                         n_estimators=50, random_state=42),\n",
       "             iid='deprecated', n_jobs=None,\n",
       "             param_grid={'base_estimator__max_depth': [2, 4, 6],\n",
       "                         'base_estimator__splitter': ['best', 'random'],\n",
       "                         'learning_rate': [0.5, 1.0, 2],\n",
       "                         'n_estimators': [100, 150]},\n",
       "             pre_dispatch='2*n_jobs', refit=True, return_train_score=True,\n",
       "             scoring=None, verbose=0)"
      ]
     },
     "execution_count": 43,
     "metadata": {},
     "output_type": "execute_result"
    }
   ],
   "source": [
    "adc_dtree =AdaBoostRegressor(base_estimator=DecisionTreeRegressor(),random_state=42)\n",
    "adc_dtree_param = {\n",
    "             # 'base_estimator__criterion' : [\"gini\", \"entropy\"],\n",
    "              'base_estimator__splitter' :   [\"best\", \"random\"],\n",
    "              'base_estimator__max_depth' : [2,4,6],\n",
    "              'n_estimators' : [100,150],\n",
    "              'learning_rate' : [0.5,1.0,2],\n",
    "             }\n",
    "adc_dtree_grid = GridSearchCV(adc_dtree, adc_dtree_param,cv=5, return_train_score=True, )\n",
    "adc_dtree_grid.fit(X_train,y_train)"
   ]
  },
  {
   "cell_type": "code",
   "execution_count": 163,
   "metadata": {},
   "outputs": [
    {
     "name": "stdout",
     "output_type": "stream",
     "text": [
      "train mse: 235379896.34787902\n",
      "train rmse: 15342.095565726313\n",
      "train r2: 0.9623020124499386\n",
      "\n",
      "test mse: 894488734.2279433\n",
      "test rmse: 29908.00451765285\n",
      "test r2: 0.8698379324389933\n",
      "\n",
      "Best parameters: {'base_estimator__max_depth': 6, 'base_estimator__splitter': 'best', 'learning_rate': 2, 'n_estimators': 100}\n",
      "Best cross-validation score: 0.8731\n"
     ]
    }
   ],
   "source": [
    "# let's get the predictions\n",
    "X_train_preds = adc_dtree_grid.predict(X_train)\n",
    "X_test_preds = adc_dtree_grid.predict(X_test)\n",
    "\n",
    "\n",
    "# check model performance:\n",
    "\n",
    "print('train mse: {}'.format(mean_squared_error(y_train, X_train_preds)))\n",
    "print('train rmse: {}'.format(sqrt(mean_squared_error(y_train, X_train_preds))))\n",
    "print('train r2: {}'.format(r2_score(y_train, X_train_preds)))\n",
    "print()\n",
    "print('test mse: {}'.format(mean_squared_error(y_test, X_test_preds)))\n",
    "print('test rmse: {}'.format(sqrt(mean_squared_error(y_test, X_test_preds))))\n",
    "print('test r2: {}'.format(r2_score(y_test, X_test_preds)))\n",
    "print()\n",
    "print(\"Best parameters: {}\".format(adc_dtree_grid.best_params_))\n",
    "print(\"Best cross-validation score: {:.4f}\".format(adc_dtree_grid.best_score_))"
   ]
  },
  {
   "cell_type": "markdown",
   "metadata": {},
   "source": [
    "## Gradient Boost"
   ]
  },
  {
   "cell_type": "code",
   "execution_count": 45,
   "metadata": {},
   "outputs": [
    {
     "data": {
      "text/plain": [
       "GridSearchCV(cv=5, error_score=nan,\n",
       "             estimator=GradientBoostingRegressor(alpha=0.9, ccp_alpha=0.0,\n",
       "                                                 criterion='friedman_mse',\n",
       "                                                 init=None, learning_rate=0.1,\n",
       "                                                 loss='ls', max_depth=3,\n",
       "                                                 max_features=None,\n",
       "                                                 max_leaf_nodes=None,\n",
       "                                                 min_impurity_decrease=0.0,\n",
       "                                                 min_impurity_split=None,\n",
       "                                                 min_samples_leaf=1,\n",
       "                                                 min_samples_split=2,\n",
       "                                                 min_weight_fraction_leaf=0.0,\n",
       "                                                 n_estimators=100,\n",
       "                                                 n_iter_no_change=None,\n",
       "                                                 presort='deprecated',\n",
       "                                                 random_state=42, subsample=1.0,\n",
       "                                                 tol=0.0001,\n",
       "                                                 validation_fraction=0.1,\n",
       "                                                 verbose=0, warm_start=False),\n",
       "             iid='deprecated', n_jobs=None,\n",
       "             param_grid={'learning_rate': [0.5, 1.0, 2], 'max_depth': [2, 3, 4],\n",
       "                         'n_estimators': [100, 150]},\n",
       "             pre_dispatch='2*n_jobs', refit=True, return_train_score=True,\n",
       "             scoring=None, verbose=0)"
      ]
     },
     "execution_count": 45,
     "metadata": {},
     "output_type": "execute_result"
    }
   ],
   "source": [
    "\n",
    "gbc= GradientBoostingRegressor(random_state=42)\n",
    "gbc_param = {\n",
    "              'max_depth' : [2,3,4],\n",
    "              'n_estimators' : [100,150],\n",
    "              'learning_rate' : [0.5,1.0,2],\n",
    "             }\n",
    "gbc_grid = GridSearchCV(gbc, gbc_param,cv=5, return_train_score=True, )\n",
    "gbc_grid.fit(X_train,y_train)"
   ]
  },
  {
   "cell_type": "code",
   "execution_count": 164,
   "metadata": {},
   "outputs": [
    {
     "name": "stdout",
     "output_type": "stream",
     "text": [
      "train mse: 96478319.6971917\n",
      "train rmse: 9822.337791849337\n",
      "train r2: 0.9845482194901631\n",
      "\n",
      "test mse: 800621519.0582533\n",
      "test rmse: 28295.256122860123\n",
      "test r2: 0.8834970768587678\n",
      "\n",
      "Best parameters: {'learning_rate': 0.5, 'max_depth': 3, 'n_estimators': 100}\n",
      "Best cross-validation score: 0.8693\n"
     ]
    }
   ],
   "source": [
    "# let's get the predictions\n",
    "X_train_preds = gbc_grid.predict(X_train)\n",
    "X_test_preds = gbc_grid.predict(X_test)\n",
    "\n",
    "\n",
    "# check model performance:\n",
    "\n",
    "print('train mse: {}'.format(mean_squared_error(y_train, X_train_preds)))\n",
    "print('train rmse: {}'.format(sqrt(mean_squared_error(y_train, X_train_preds))))\n",
    "print('train r2: {}'.format(r2_score(y_train, X_train_preds)))\n",
    "print()\n",
    "print('test mse: {}'.format(mean_squared_error(y_test, X_test_preds)))\n",
    "print('test rmse: {}'.format(sqrt(mean_squared_error(y_test, X_test_preds))))\n",
    "print('test r2: {}'.format(r2_score(y_test, X_test_preds)))\n",
    "print()\n",
    "print(\"Best parameters: {}\".format(gbc_grid.best_params_))\n",
    "print(\"Best cross-validation score: {:.4f}\".format(gbc_grid.best_score_))"
   ]
  },
  {
   "cell_type": "markdown",
   "metadata": {},
   "source": [
    "## XGBoost"
   ]
  },
  {
   "cell_type": "code",
   "execution_count": 47,
   "metadata": {},
   "outputs": [
    {
     "name": "stdout",
     "output_type": "stream",
     "text": [
      "Requirement already satisfied: xgboost in c:\\users\\aman\\ana\\lib\\site-packages (1.0.2)\n",
      "Requirement already satisfied: scipy in c:\\users\\aman\\ana\\lib\\site-packages (from xgboost) (1.4.1)\n",
      "Requirement already satisfied: numpy in c:\\users\\aman\\ana\\lib\\site-packages (from xgboost) (1.16.5)\n",
      "Note: you may need to restart the kernel to use updated packages.\n"
     ]
    }
   ],
   "source": [
    "pip install xgboost"
   ]
  },
  {
   "cell_type": "code",
   "execution_count": 48,
   "metadata": {},
   "outputs": [
    {
     "data": {
      "text/plain": [
       "GridSearchCV(cv=5, error_score=nan,\n",
       "             estimator=XGBRegressor(base_score=None, booster=None,\n",
       "                                    colsample_bylevel=None,\n",
       "                                    colsample_bynode=None,\n",
       "                                    colsample_bytree=None,\n",
       "                                    early_stopping_rounds=2, gamma=None,\n",
       "                                    gpu_id=None, importance_type='gain',\n",
       "                                    interaction_constraints=None,\n",
       "                                    learning_rate=None, max_delta_step=None,\n",
       "                                    max_depth=None, min_child_weight=None,\n",
       "                                    missing=nan, monotone_c...\n",
       "                                    reg_lambda=None, scale_pos_weight=None,\n",
       "                                    subsample=None, tree_method=None,\n",
       "                                    validate_parameters=False, verbosity=None),\n",
       "             iid='deprecated', n_jobs=None,\n",
       "             param_grid={'learning_rate': [0.1, 0.5, 0.6, 0.8],\n",
       "                         'max_depth': [2, 4, 6],\n",
       "                         'min_child_weight': [1, 3, 5, 7],\n",
       "                         'n_estimators': [50, 100, 150],\n",
       "                         'subsample': [0.6, 0.7, 0.8, 0.9, 1]},\n",
       "             pre_dispatch='2*n_jobs', refit=True, return_train_score=True,\n",
       "             scoring=None, verbose=0)"
      ]
     },
     "execution_count": 48,
     "metadata": {},
     "output_type": "execute_result"
    }
   ],
   "source": [
    "from  xgboost import XGBRegressor\n",
    "xgbc= XGBRegressor(random_state=42,early_stopping_rounds=2,objective= 'reg:squarederror')\n",
    "xgbc_param = {\n",
    "              'max_depth' : [2,4,6],\n",
    "              'n_estimators' : [50,100,150],\n",
    "              'learning_rate' : [0.1,0.5,0.6,0.8],\n",
    "               'min_child_weight' : [1,3,5,7],\n",
    "                'subsample':[0.6,0.7,0.8,0.9,1]\n",
    "             }\n",
    "xgbc_grid = GridSearchCV(xgbc, xgbc_param,cv=5, return_train_score=True, )\n",
    "xgbc_grid.fit(X_train,y_train)"
   ]
  },
  {
   "cell_type": "code",
   "execution_count": 165,
   "metadata": {},
   "outputs": [
    {
     "name": "stdout",
     "output_type": "stream",
     "text": [
      "train mse: 128642421.8050286\n",
      "train rmse: 11342.06426560124\n",
      "train r2: 0.979396879296572\n",
      "\n",
      "test mse: 841113903.6952448\n",
      "test rmse: 29001.96379032366\n",
      "test r2: 0.8776048030903614\n",
      "\n",
      "Best parameters: {'learning_rate': 0.1, 'max_depth': 4, 'min_child_weight': 1, 'n_estimators': 150, 'subsample': 0.8}\n",
      "Best cross-validation score: 0.8982\n"
     ]
    }
   ],
   "source": [
    "# let's get the predictions\n",
    "X_train_preds = xgbc_grid.predict(X_train)\n",
    "X_test_preds = xgbc_grid.predict(X_test)\n",
    "\n",
    "\n",
    "# check model performance:\n",
    "\n",
    "print('train mse: {}'.format(mean_squared_error(y_train, X_train_preds)))\n",
    "print('train rmse: {}'.format(sqrt(mean_squared_error(y_train, X_train_preds))))\n",
    "print('train r2: {}'.format(r2_score(y_train, X_train_preds)))\n",
    "print()\n",
    "print('test mse: {}'.format(mean_squared_error(y_test, X_test_preds)))\n",
    "print('test rmse: {}'.format(sqrt(mean_squared_error(y_test, X_test_preds))))\n",
    "print('test r2: {}'.format(r2_score(y_test, X_test_preds)))\n",
    "print()\n",
    "print(\"Best parameters: {}\".format(xgbc_grid.best_params_))\n",
    "print(\"Best cross-validation score: {:.4f}\".format(xgbc_grid.best_score_))"
   ]
  },
  {
   "cell_type": "markdown",
   "metadata": {},
   "source": [
    "# Summary"
   ]
  },
  {
   "cell_type": "code",
   "execution_count": 80,
   "metadata": {},
   "outputs": [],
   "source": [
    "classifiers={'knn':grid_knn ,\n",
    "             'ridge':grid_ridge,\n",
    "             'poly':grid_poly,\n",
    "             \n",
    "             'sgd':grid_sgd,\n",
    "             'lasso':grid_lasso,\n",
    "             'elastic':grid_elasticnet,\n",
    "             'dtree':grid_tree,\n",
    "             'SVC':grid_svc,\n",
    "             'bag_losso':bag_lasso_grid,\n",
    "             'bag_dtree1':bag_dtree1_grid,\n",
    "             \n",
    "            'paste_lasso': paste_lasso1,\n",
    "            'paste_dtree':paste_dtree2_grid,\n",
    "             \n",
    "             'rfc': rfc_grid,\n",
    "             'etc': etc_grid,\n",
    "             'adc_dtree':adc_dtree_grid,\n",
    "             'gbc': gbc_grid,\n",
    "             'xgbc': xgbc_grid\n",
    "            }"
   ]
  },
  {
   "cell_type": "code",
   "execution_count": 81,
   "metadata": {},
   "outputs": [
    {
     "data": {
      "text/plain": [
       "dict_keys(['knn', 'ridge', 'poly', 'sgd', 'lasso', 'elastic', 'dtree', 'SVC', 'bag_losso', 'bag_dtree1', 'paste_lasso', 'paste_dtree', 'rfc', 'etc', 'adc_dtree', 'gbc', 'xgbc'])"
      ]
     },
     "execution_count": 81,
     "metadata": {},
     "output_type": "execute_result"
    }
   ],
   "source": [
    "classifiers.keys()"
   ]
  },
  {
   "cell_type": "code",
   "execution_count": 82,
   "metadata": {},
   "outputs": [],
   "source": [
    "results_mean_std = []\n",
    "for  key, value in classifiers.items():\n",
    "    mean = value.cv_results_['mean_test_score'][value.best_index_]\n",
    "    std=value.cv_results_['std_test_score'][value.best_index_]\n",
    "     \n",
    "    results_mean_std.append({\n",
    "        \"model\": key,\n",
    "        \"mean\": mean,\n",
    "        \"std\": std\n",
    "    })"
   ]
  },
  {
   "cell_type": "code",
   "execution_count": 83,
   "metadata": {},
   "outputs": [],
   "source": [
    "# Create a Pandas DataFrame with the mean+std results\n",
    "accuracy_df = pd.DataFrame(results_mean_std, columns=['model', 'mean', 'std'])\n"
   ]
  },
  {
   "cell_type": "code",
   "execution_count": 84,
   "metadata": {},
   "outputs": [
    {
     "data": {
      "text/html": [
       "<div>\n",
       "<style scoped>\n",
       "    .dataframe tbody tr th:only-of-type {\n",
       "        vertical-align: middle;\n",
       "    }\n",
       "\n",
       "    .dataframe tbody tr th {\n",
       "        vertical-align: top;\n",
       "    }\n",
       "\n",
       "    .dataframe thead th {\n",
       "        text-align: right;\n",
       "    }\n",
       "</style>\n",
       "<table border=\"1\" class=\"dataframe\">\n",
       "  <thead>\n",
       "    <tr style=\"text-align: right;\">\n",
       "      <th></th>\n",
       "      <th>model</th>\n",
       "      <th>mean</th>\n",
       "      <th>std</th>\n",
       "    </tr>\n",
       "  </thead>\n",
       "  <tbody>\n",
       "    <tr>\n",
       "      <td>16</td>\n",
       "      <td>xgbc</td>\n",
       "      <td>8.981993e-01</td>\n",
       "      <td>9.513393e-03</td>\n",
       "    </tr>\n",
       "    <tr>\n",
       "      <td>4</td>\n",
       "      <td>lasso</td>\n",
       "      <td>8.868189e-01</td>\n",
       "      <td>2.822970e-02</td>\n",
       "    </tr>\n",
       "    <tr>\n",
       "      <td>8</td>\n",
       "      <td>bag_losso</td>\n",
       "      <td>8.865671e-01</td>\n",
       "      <td>3.215482e-02</td>\n",
       "    </tr>\n",
       "    <tr>\n",
       "      <td>1</td>\n",
       "      <td>ridge</td>\n",
       "      <td>8.861721e-01</td>\n",
       "      <td>3.046463e-02</td>\n",
       "    </tr>\n",
       "    <tr>\n",
       "      <td>5</td>\n",
       "      <td>elastic</td>\n",
       "      <td>8.861625e-01</td>\n",
       "      <td>3.051016e-02</td>\n",
       "    </tr>\n",
       "    <tr>\n",
       "      <td>10</td>\n",
       "      <td>paste_lasso</td>\n",
       "      <td>8.849383e-01</td>\n",
       "      <td>3.296761e-02</td>\n",
       "    </tr>\n",
       "    <tr>\n",
       "      <td>3</td>\n",
       "      <td>sgd</td>\n",
       "      <td>8.766691e-01</td>\n",
       "      <td>1.550243e-02</td>\n",
       "    </tr>\n",
       "    <tr>\n",
       "      <td>9</td>\n",
       "      <td>bag_dtree1</td>\n",
       "      <td>8.754039e-01</td>\n",
       "      <td>1.459663e-02</td>\n",
       "    </tr>\n",
       "    <tr>\n",
       "      <td>14</td>\n",
       "      <td>adc_dtree</td>\n",
       "      <td>8.731238e-01</td>\n",
       "      <td>1.341853e-02</td>\n",
       "    </tr>\n",
       "    <tr>\n",
       "      <td>15</td>\n",
       "      <td>gbc</td>\n",
       "      <td>8.693214e-01</td>\n",
       "      <td>1.946227e-02</td>\n",
       "    </tr>\n",
       "    <tr>\n",
       "      <td>12</td>\n",
       "      <td>rfc</td>\n",
       "      <td>8.684018e-01</td>\n",
       "      <td>1.644947e-02</td>\n",
       "    </tr>\n",
       "    <tr>\n",
       "      <td>13</td>\n",
       "      <td>etc</td>\n",
       "      <td>8.670306e-01</td>\n",
       "      <td>1.204579e-02</td>\n",
       "    </tr>\n",
       "    <tr>\n",
       "      <td>0</td>\n",
       "      <td>knn</td>\n",
       "      <td>7.860286e-01</td>\n",
       "      <td>3.820895e-02</td>\n",
       "    </tr>\n",
       "    <tr>\n",
       "      <td>6</td>\n",
       "      <td>dtree</td>\n",
       "      <td>7.658725e-01</td>\n",
       "      <td>6.045388e-02</td>\n",
       "    </tr>\n",
       "    <tr>\n",
       "      <td>11</td>\n",
       "      <td>paste_dtree</td>\n",
       "      <td>7.336271e-01</td>\n",
       "      <td>2.809108e-02</td>\n",
       "    </tr>\n",
       "    <tr>\n",
       "      <td>7</td>\n",
       "      <td>SVC</td>\n",
       "      <td>1.902592e-02</td>\n",
       "      <td>4.165292e-03</td>\n",
       "    </tr>\n",
       "    <tr>\n",
       "      <td>2</td>\n",
       "      <td>poly</td>\n",
       "      <td>-1.111365e+16</td>\n",
       "      <td>1.567084e+16</td>\n",
       "    </tr>\n",
       "  </tbody>\n",
       "</table>\n",
       "</div>"
      ],
      "text/plain": [
       "          model          mean           std\n",
       "16         xgbc  8.981993e-01  9.513393e-03\n",
       "4         lasso  8.868189e-01  2.822970e-02\n",
       "8     bag_losso  8.865671e-01  3.215482e-02\n",
       "1         ridge  8.861721e-01  3.046463e-02\n",
       "5       elastic  8.861625e-01  3.051016e-02\n",
       "10  paste_lasso  8.849383e-01  3.296761e-02\n",
       "3           sgd  8.766691e-01  1.550243e-02\n",
       "9    bag_dtree1  8.754039e-01  1.459663e-02\n",
       "14    adc_dtree  8.731238e-01  1.341853e-02\n",
       "15          gbc  8.693214e-01  1.946227e-02\n",
       "12          rfc  8.684018e-01  1.644947e-02\n",
       "13          etc  8.670306e-01  1.204579e-02\n",
       "0           knn  7.860286e-01  3.820895e-02\n",
       "6         dtree  7.658725e-01  6.045388e-02\n",
       "11  paste_dtree  7.336271e-01  2.809108e-02\n",
       "7           SVC  1.902592e-02  4.165292e-03\n",
       "2          poly -1.111365e+16  1.567084e+16"
      ]
     },
     "execution_count": 84,
     "metadata": {},
     "output_type": "execute_result"
    }
   ],
   "source": [
    "# Show the accuracy dataframe\n",
    "\n",
    "accuracy_df.sort_values(by=['mean'], inplace=True,ascending=False)\n",
    "accuracy_df"
   ]
  },
  {
   "cell_type": "code",
   "execution_count": 85,
   "metadata": {},
   "outputs": [],
   "source": [
    "# Create a prediction of all models on the test set\n",
    "predictions_all = {}\n",
    "for  key, value in classifiers.items():\n",
    "    # Get best estimator\n",
    "    best_model = value.best_estimator_\n",
    "    \n",
    "    # Predict test labels\n",
    "    predictions = best_model.predict(X_train)\n",
    "    \n",
    "    # Save predictions to a list\n",
    "    predictions_all[key] = predictions"
   ]
  },
  {
   "cell_type": "code",
   "execution_count": 86,
   "metadata": {},
   "outputs": [],
   "source": [
    "# Creat a DataFrame for the predictions\n",
    "pred = pd.DataFrame(predictions_all)"
   ]
  },
  {
   "cell_type": "code",
   "execution_count": 87,
   "metadata": {},
   "outputs": [
    {
     "data": {
      "text/plain": [
       "Text(0.5, 1, 'Correlation of the test set label prediction between models')"
      ]
     },
     "execution_count": 87,
     "metadata": {},
     "output_type": "execute_result"
    },
    {
     "data": {
      "image/png": "[encoded data removed]",
      "text/plain": [
       "<Figure size 648x432 with 2 Axes>"
      ]
     },
     "metadata": {
      "needs_background": "light"
     },
     "output_type": "display_data"
    }
   ],
   "source": [
    "# Plot a heatmap of all correlations for easier visualization\n",
    "fig, ax = plt.subplots(nrows=1, ncols=1, figsize=(9,6))\n",
    "g = sns.heatmap(pred.corr(), annot=True, cmap='coolwarm', ax=ax)\n",
    "g.set_title('Correlation of the test set label prediction between models')"
   ]
  },
  {
   "cell_type": "code",
   "execution_count": 88,
   "metadata": {},
   "outputs": [],
   "source": [
    "def get_redundant_pairs(df):\n",
    "    '''Get diagonal and lower triangular pairs of correlation matrix'''\n",
    "    pairs_to_drop = set()\n",
    "    cols = df.columns\n",
    "    for i in range(0, df.shape[1]):\n",
    "        for j in range(0, i+1):\n",
    "            pairs_to_drop.add((cols[i], cols[j]))\n",
    "    return pairs_to_drop\n",
    "\n",
    "def get_top_abs_correlations(df, n=5):\n",
    "    au_corr = df.corr().abs().unstack()\n",
    "    labels_to_drop = get_redundant_pairs(df)\n",
    "    au_corr = au_corr.drop(labels=labels_to_drop).sort_values(ascending=True)\n",
    "    return au_corr[0:n]\n",
    "\n"
   ]
  },
  {
   "cell_type": "code",
   "execution_count": 89,
   "metadata": {},
   "outputs": [
    {
     "name": "stdout",
     "output_type": "stream",
     "text": [
      "Top Absolute Correlations\n",
      "SVC          paste_dtree    0.863839\n",
      "poly         paste_dtree    0.888366\n",
      "dtree        SVC            0.890731\n",
      "knn          SVC            0.898619\n",
      "paste_dtree  gbc            0.899873\n",
      "dtype: float64\n"
     ]
    }
   ],
   "source": [
    "print(\"Top Absolute Correlations\")\n",
    "print(get_top_abs_correlations(pred, 5))"
   ]
  },
  {
   "cell_type": "markdown",
   "metadata": {},
   "source": [
    "# Stacking"
   ]
  },
  {
   "cell_type": "markdown",
   "metadata": {},
   "source": [
    "## Voting top 5"
   ]
  },
  {
   "cell_type": "code",
   "execution_count": 90,
   "metadata": {},
   "outputs": [],
   "source": [
    "from sklearn.ensemble import VotingRegressor"
   ]
  },
  {
   "cell_type": "code",
   "execution_count": 172,
   "metadata": {},
   "outputs": [
    {
     "data": {
      "text/plain": [
       "GridSearchCV(cv=10, error_score=nan,\n",
       "             estimator=VotingRegressor(estimators=[('ridge',\n",
       "                                                    Ridge(alpha=100,\n",
       "                                                          copy_X=True,\n",
       "                                                          fit_intercept=True,\n",
       "                                                          max_iter=None,\n",
       "                                                          normalize=False,\n",
       "                                                          random_state=None,\n",
       "                                                          solver='auto',\n",
       "                                                          tol=0.001)),\n",
       "                                                   ('lasso',\n",
       "                                                    Lasso(alpha=830,\n",
       "                                                          copy_X=True,\n",
       "                                                          fit_intercept=True,\n",
       "                                                          max_iter=1000,\n",
       "                                                          normalize=False,\n",
       "                                                          positive=False,\n",
       "                                                          precompute=False,\n",
       "                                                          random_state=0,\n",
       "                                                          selection='cyc...\n",
       "                                                                 n_estimators=150,\n",
       "                                                                 n_jobs=0,\n",
       "                                                                 num_parallel_tree=1,\n",
       "                                                                 objective='reg:squarederror',\n",
       "                                                                 random_state=42,\n",
       "                                                                 reg_alpha=0,\n",
       "                                                                 reg_lambda=1,\n",
       "                                                                 scale_pos_weight=1,\n",
       "                                                                 subsample=0.8,\n",
       "                                                                 tree_method=None,\n",
       "                                                                 validate_parameters=False,\n",
       "                                                                 verbosity=None))],\n",
       "                                       n_jobs=None, weights=None),\n",
       "             iid='deprecated', n_jobs=-1, param_grid={},\n",
       "             pre_dispatch='2*n_jobs', refit=True, return_train_score=True,\n",
       "             scoring=None, verbose=0)"
      ]
     },
     "execution_count": 172,
     "metadata": {},
     "output_type": "execute_result"
    }
   ],
   "source": [
    "vclf1 = VotingRegressor(estimators=\n",
    "                              [('ridge', grid_ridge.best_estimator_),\n",
    "                              ('lasso', grid_lasso.best_estimator_), \n",
    "                             ('elastic', grid_elasticnet.best_estimator_),\n",
    "                               ('bag_losso', bag_lasso_grid.best_estimator_),\n",
    "                               ('xgbc', xgbc_grid.best_estimator_)\n",
    "                            ], )\n",
    "vclf1_param = {}\n",
    "vclf1_grid = GridSearchCV(vclf1, vclf1_param,cv=10, return_train_score=True, n_jobs=-1)\n",
    "vclf1_grid.fit(X_train,y_train)"
   ]
  },
  {
   "cell_type": "code",
   "execution_count": 174,
   "metadata": {},
   "outputs": [
    {
     "name": "stdout",
     "output_type": "stream",
     "text": [
      "train mse: 420217879.04743093\n",
      "train rmse: 20499.21654716177\n",
      "train r2: 0.9326987197359007\n",
      "\n",
      "test mse: 800126920.7373974\n",
      "test rmse: 28286.514821331337\n",
      "test r2: 0.8835690486316827\n",
      "\n",
      "Best parameters: {}\n",
      "Best cross-validation score: 0.8974\n"
     ]
    }
   ],
   "source": [
    "# let's get the predictions\n",
    "X_train_preds = vclf1_grid.predict(X_train)\n",
    "X_test_preds = vclf1_grid.predict(X_test)\n",
    "\n",
    "\n",
    "# check model performance:\n",
    "\n",
    "print('train mse: {}'.format(mean_squared_error(y_train, X_train_preds)))\n",
    "print('train rmse: {}'.format(sqrt(mean_squared_error(y_train, X_train_preds))))\n",
    "print('train r2: {}'.format(r2_score(y_train, X_train_preds)))\n",
    "print()\n",
    "print('test mse: {}'.format(mean_squared_error(y_test, X_test_preds)))\n",
    "print('test rmse: {}'.format(sqrt(mean_squared_error(y_test, X_test_preds))))\n",
    "print('test r2: {}'.format(r2_score(y_test, X_test_preds)))\n",
    "print()\n",
    "print(\"Best parameters: {}\".format(vclf1_grid.best_params_))\n",
    "print(\"Best cross-validation score: {:.4f}\".format(vclf1_grid.best_score_))"
   ]
  },
  {
   "cell_type": "markdown",
   "metadata": {},
   "source": [
    "## Voting Least Correlated"
   ]
  },
  {
   "cell_type": "code",
   "execution_count": 128,
   "metadata": {},
   "outputs": [
    {
     "data": {
      "text/plain": [
       "GridSearchCV(cv=5, error_score=nan,\n",
       "             estimator=VotingRegressor(estimators=[('knn',\n",
       "                                                    Pipeline(memory=None,\n",
       "                                                             steps=[('scaler',\n",
       "                                                                     MinMaxScaler(copy=True,\n",
       "                                                                                  feature_range=(0,\n",
       "                                                                                                 1))),\n",
       "                                                                    ('knnreg',\n",
       "                                                                     KNeighborsRegressor(algorithm='auto',\n",
       "                                                                                         leaf_size=30,\n",
       "                                                                                         metric='minkowski',\n",
       "                                                                                         metric_params=None,\n",
       "                                                                                         n_jobs=None,\n",
       "                                                                                         n_neighbors=7,\n",
       "                                                                                         p=2,\n",
       "                                                                                         weights='uniform'))],\n",
       "                                                             verbose=False)),\n",
       "                                                   ('dtree',\n",
       "                                                    DecisionTreeRe...\n",
       "                                                                                                          random_state=None,\n",
       "                                                                                                          splitter='random'),\n",
       "                                                                     bootstrap=False,\n",
       "                                                                     bootstrap_features=False,\n",
       "                                                                     max_features=1.0,\n",
       "                                                                     max_samples=0.8,\n",
       "                                                                     n_estimators=100,\n",
       "                                                                     n_jobs=None,\n",
       "                                                                     oob_score=False,\n",
       "                                                                     random_state=0,\n",
       "                                                                     verbose=0,\n",
       "                                                                     warm_start=False))],\n",
       "                                       n_jobs=None, weights=None),\n",
       "             iid='deprecated', n_jobs=None, param_grid={},\n",
       "             pre_dispatch='2*n_jobs', refit=True, return_train_score=True,\n",
       "             scoring=None, verbose=0)"
      ]
     },
     "execution_count": 128,
     "metadata": {},
     "output_type": "execute_result"
    }
   ],
   "source": [
    "vclf3 = VotingRegressor(estimators=\n",
    "                              [('knn', grid_knn.best_estimator_), \n",
    "                               #('poly', grid_poly.best_estimator_), \n",
    "                               ('dtree', grid_tree.best_estimator_),\n",
    "                               ('paste_dtree', paste_dtree2_grid.best_estimator_)\n",
    "                              ])\n",
    "vclf3_param = {}\n",
    "vclf3_grid = GridSearchCV(vclf3, vclf3_param,cv=5, return_train_score=True)\n",
    "vclf3_grid.fit(X_train,y_train)"
   ]
  },
  {
   "cell_type": "code",
   "execution_count": 168,
   "metadata": {},
   "outputs": [
    {
     "name": "stdout",
     "output_type": "stream",
     "text": [
      "train mse: 832415708.5978715\n",
      "train rmse: 28851.615355086647\n",
      "train r2: 0.8666819150399339\n",
      "\n",
      "test mse: 1261031293.680614\n",
      "test rmse: 35511.00243136786\n",
      "test r2: 0.8165002708656002\n",
      "\n",
      "Best parameters: {}\n",
      "Best cross-validation score: 0.8133\n"
     ]
    }
   ],
   "source": [
    "# let's get the predictions\n",
    "X_train_preds = vclf3_grid.predict(X_train)\n",
    "X_test_preds = vclf3_grid.predict(X_test)\n",
    "\n",
    "\n",
    "# check model performance:\n",
    "\n",
    "print('train mse: {}'.format(mean_squared_error(y_train, X_train_preds)))\n",
    "print('train rmse: {}'.format(sqrt(mean_squared_error(y_train, X_train_preds))))\n",
    "print('train r2: {}'.format(r2_score(y_train, X_train_preds)))\n",
    "print()\n",
    "print('test mse: {}'.format(mean_squared_error(y_test, X_test_preds)))\n",
    "print('test rmse: {}'.format(sqrt(mean_squared_error(y_test, X_test_preds))))\n",
    "print('test r2: {}'.format(r2_score(y_test, X_test_preds)))\n",
    "print()\n",
    "print(\"Best parameters: {}\".format(vclf3_grid.best_params_))\n",
    "print(\"Best cross-validation score: {:.4f}\".format(vclf3_grid.best_score_))"
   ]
  },
  {
   "cell_type": "code",
   "execution_count": null,
   "metadata": {},
   "outputs": [],
   "source": [
    "pip install --upgrade scikit-learn"
   ]
  },
  {
   "cell_type": "markdown",
   "metadata": {},
   "source": [
    "## Stacking Top 5"
   ]
  },
  {
   "cell_type": "code",
   "execution_count": 150,
   "metadata": {},
   "outputs": [],
   "source": [
    "from sklearn.ensemble import StackingRegressor\n",
    "from sklearn.linear_model import Lasso"
   ]
  },
  {
   "cell_type": "code",
   "execution_count": 178,
   "metadata": {},
   "outputs": [
    {
     "data": {
      "text/plain": [
       "GridSearchCV(cv=10, error_score=nan,\n",
       "             estimator=StackingRegressor(cv=None,\n",
       "                                         estimators=[('ridge',\n",
       "                                                      Ridge(alpha=100,\n",
       "                                                            copy_X=True,\n",
       "                                                            fit_intercept=True,\n",
       "                                                            max_iter=None,\n",
       "                                                            normalize=False,\n",
       "                                                            random_state=None,\n",
       "                                                            solver='auto',\n",
       "                                                            tol=0.001)),\n",
       "                                                     ('lasso',\n",
       "                                                      Lasso(alpha=830,\n",
       "                                                            copy_X=True,\n",
       "                                                            fit_intercept=True,\n",
       "                                                            max_iter=1000,\n",
       "                                                            normalize=False,\n",
       "                                                            positive=False,\n",
       "                                                            precompute=False,\n",
       "                                                            random_state=0,\n",
       "                                                            sele...\n",
       "                                                               normalize=False,\n",
       "                                                               positive=False,\n",
       "                                                               precompute=False,\n",
       "                                                               random_state=None,\n",
       "                                                               selection='cyclic',\n",
       "                                                               tol=0.0001,\n",
       "                                                               warm_start=False),\n",
       "                                         n_jobs=None, passthrough=False,\n",
       "                                         verbose=0),\n",
       "             iid='deprecated', n_jobs=None,\n",
       "             param_grid={'final_estimator__alpha': [0.001, 0.01, 10, 830, 850,\n",
       "                                                    870, 890, 900, 1000, 1050,\n",
       "                                                    1100, 1150]},\n",
       "             pre_dispatch='2*n_jobs', refit=True, return_train_score=True,\n",
       "             scoring=None, verbose=0)"
      ]
     },
     "execution_count": 178,
     "metadata": {},
     "output_type": "execute_result"
    }
   ],
   "source": [
    "sclf1 = StackingRegressor(estimators=\n",
    "                              \n",
    "                              [('ridge', grid_ridge.best_estimator_),\n",
    "                              ('lasso', grid_lasso.best_estimator_), \n",
    "                             ('elastic', grid_elasticnet.best_estimator_),\n",
    "                               ('bag_losso', bag_lasso_grid.best_estimator_),\n",
    "                               ('xgbc', xgbc_grid.best_estimator_)\n",
    "                              ], final_estimator=Lasso())\n",
    "sclf1_param = {\n",
    "              'final_estimator__alpha' : [0.001, 0.01,10, 830, 850, 870,890, 900, 1000,1050,1100, 1150],\n",
    "             # 'stack_method':['auto', 'predict_proba']\n",
    "             }\n",
    "sclf1_grid = GridSearchCV(sclf1, sclf1_param,cv=10, return_train_score=True, )\n",
    "sclf1_grid.fit(X_train,y_train)"
   ]
  },
  {
   "cell_type": "code",
   "execution_count": 180,
   "metadata": {},
   "outputs": [
    {
     "name": "stdout",
     "output_type": "stream",
     "text": [
      "train mse: 202211160.2308104\n",
      "train rmse: 14220.097054197991\n",
      "train r2: 0.967614252877407\n",
      "\n",
      "test mse: 776056997.6693237\n",
      "test rmse: 27857.799584125874\n",
      "test r2: 0.8870715980017192\n",
      "\n",
      "Best parameters: {'final_estimator__alpha': 0.001}\n",
      "Best cross-validation score: 0.9031\n"
     ]
    }
   ],
   "source": [
    "# let's get the predictions\n",
    "X_train_preds = sclf1_grid.predict(X_train)\n",
    "X_test_preds = sclf1_grid.predict(X_test)\n",
    "\n",
    "\n",
    "# check model performance:\n",
    "\n",
    "print('train mse: {}'.format(mean_squared_error(y_train, X_train_preds)))\n",
    "print('train rmse: {}'.format(sqrt(mean_squared_error(y_train, X_train_preds))))\n",
    "print('train r2: {}'.format(r2_score(y_train, X_train_preds)))\n",
    "print()\n",
    "print('test mse: {}'.format(mean_squared_error(y_test, X_test_preds)))\n",
    "print('test rmse: {}'.format(sqrt(mean_squared_error(y_test, X_test_preds))))\n",
    "print('test r2: {}'.format(r2_score(y_test, X_test_preds)))\n",
    "print()\n",
    "print(\"Best parameters: {}\".format(sclf1_grid.best_params_))\n",
    "print(\"Best cross-validation score: {:.4f}\".format(sclf1_grid.best_score_))"
   ]
  },
  {
   "cell_type": "markdown",
   "metadata": {},
   "source": [
    "## Stacking Least Correlated"
   ]
  },
  {
   "cell_type": "code",
   "execution_count": 155,
   "metadata": {},
   "outputs": [
    {
     "data": {
      "text/plain": [
       "GridSearchCV(cv=5, error_score=nan,\n",
       "             estimator=StackingRegressor(cv=None,\n",
       "                                         estimators=[('dtree',\n",
       "                                                      DecisionTreeRegressor(ccp_alpha=0.0,\n",
       "                                                                            criterion='mse',\n",
       "                                                                            max_depth=5,\n",
       "                                                                            max_features=None,\n",
       "                                                                            max_leaf_nodes=None,\n",
       "                                                                            min_impurity_decrease=0.0,\n",
       "                                                                            min_impurity_split=None,\n",
       "                                                                            min_samples_leaf=1,\n",
       "                                                                            min_samples_split=2,\n",
       "                                                                            min_weight_fraction_leaf=0.0,\n",
       "                                                                            presort='deprecated',\n",
       "                                                                            random_state=0,\n",
       "                                                                            spl...\n",
       "                                         n_jobs=None, passthrough=False,\n",
       "                                         verbose=0),\n",
       "             iid='deprecated', n_jobs=None,\n",
       "             param_grid={'final_estimator__learning_rate': [0.1, 0.6, 0.8],\n",
       "                         'final_estimator__max_depth': [2, 6],\n",
       "                         'final_estimator__min_child_weight': [1, 3, 7],\n",
       "                         'final_estimator__n_estimators': [50, 150],\n",
       "                         'final_estimator__subsample': [0.6, 0.9, 1]},\n",
       "             pre_dispatch='2*n_jobs', refit=True, return_train_score=True,\n",
       "             scoring=None, verbose=0)"
      ]
     },
     "execution_count": 155,
     "metadata": {},
     "output_type": "execute_result"
    }
   ],
   "source": [
    "sclf2 = StackingRegressor(estimators=\n",
    "                              [('dtree', grid_tree.best_estimator_), \n",
    "                               ('paste_dtree', paste_dtree2_grid.best_estimator_), \n",
    "                                ],\n",
    "                           final_estimator=\n",
    "                           XGBRegressor(random_state=42,early_stopping_rounds=2,objective= 'reg:squarederror'))\n",
    "sclf2_param = {\n",
    "              'final_estimator__max_depth' : [2,6],\n",
    "              'final_estimator__n_estimators' : [50,150],\n",
    "              'final_estimator__learning_rate' : [0.1,0.6,0.8],\n",
    "              'final_estimator__min_child_weight' : [1,3,7],\n",
    "              'final_estimator__subsample':[0.6,0.9,1],\n",
    "             #'stack_method':['auto', 'predict_proba']\n",
    "             }\n",
    "sclf2_grid = GridSearchCV(sclf2, sclf2_param,cv=5, return_train_score=True, )\n",
    "sclf2_grid.fit(X_train,y_train)"
   ]
  },
  {
   "cell_type": "code",
   "execution_count": 166,
   "metadata": {},
   "outputs": [
    {
     "name": "stdout",
     "output_type": "stream",
     "text": [
      "train mse: 924397365.8195803\n",
      "train rmse: 30403.903792433965\n",
      "train r2: 0.8519503112684157\n",
      "\n",
      "test mse: 1262645228.06024\n",
      "test rmse: 35533.71959224421\n",
      "test r2: 0.8162654182311048\n",
      "\n",
      "Best parameters: {'final_estimator__learning_rate': 0.1, 'final_estimator__max_depth': 2, 'final_estimator__min_child_weight': 1, 'final_estimator__n_estimators': 50, 'final_estimator__subsample': 1}\n",
      "Best cross-validation score: 0.7992\n"
     ]
    }
   ],
   "source": [
    "# let's get the predictions\n",
    "X_train_preds = sclf2_grid.predict(X_train)\n",
    "X_test_preds = sclf2_grid.predict(X_test)\n",
    "\n",
    "\n",
    "# check model performance:\n",
    "\n",
    "print('train mse: {}'.format(mean_squared_error(y_train, X_train_preds)))\n",
    "print('train rmse: {}'.format(sqrt(mean_squared_error(y_train, X_train_preds))))\n",
    "print('train r2: {}'.format(r2_score(y_train, X_train_preds)))\n",
    "print()\n",
    "print('test mse: {}'.format(mean_squared_error(y_test, X_test_preds)))\n",
    "print('test rmse: {}'.format(sqrt(mean_squared_error(y_test, X_test_preds))))\n",
    "print('test r2: {}'.format(r2_score(y_test, X_test_preds)))\n",
    "print()\n",
    "print(\"Best parameters: {}\".format(sclf2_grid.best_params_))\n",
    "print(\"Best cross-validation score: {:.4f}\".format(sclf2_grid.best_score_))"
   ]
  }
 ],
 "metadata": {
  "kernelspec": {
   "display_name": "Python 3",
   "language": "python",
   "name": "python3"
  },
  "language_info": {
   "codemirror_mode": {
    "name": "ipython",
    "version": 3
   },
   "file_extension": ".py",
   "mimetype": "text/x-python",
   "name": "python",
   "nbconvert_exporter": "python",
   "pygments_lexer": "ipython3",
   "version": "3.7.4"
  },
  "toc": {
   "base_numbering": 1,
   "nav_menu": {},
   "number_sections": true,
   "sideBar": true,
   "skip_h1_title": false,
   "title_cell": "Table of Contents",
   "title_sidebar": "Contents",
   "toc_cell": false,
   "toc_position": {
    "height": "583px",
    "left": "0px",
    "right": "1324px",
    "top": "107px",
    "width": "226.333px"
   },
   "toc_section_display": true,
   "toc_window_display": true
  },
  "varInspector": {
   "cols": {
    "lenName": 16,
    "lenType": 16,
    "lenVar": 40
   },
   "kernels_config": {
    "python": {
     "delete_cmd_postfix": "",
     "delete_cmd_prefix": "del ",
     "library": "var_list.py",
     "varRefreshCmd": "print(var_dic_list())"
    },
    "r": {
     "delete_cmd_postfix": ") ",
     "delete_cmd_prefix": "rm(",
     "library": "var_list.r",
     "varRefreshCmd": "cat(var_dic_list()) "
    }
   },
   "types_to_exclude": [
    "module",
    "function",
    "builtin_function_or_method",
    "instance",
    "_Feature"
   ],
   "window_display": false
  }
 },
 "nbformat": 4,
 "nbformat_minor": 2
}
